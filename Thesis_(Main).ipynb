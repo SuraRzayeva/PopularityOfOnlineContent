{
  "cells": [
    {
      "cell_type": "markdown",
      "metadata": {
        "id": "view-in-github",
        "colab_type": "text"
      },
      "source": [
        "<a href=\"https://colab.research.google.com/github/SuraRzayeva/PopularityOfOnlineContent/blob/main/Thesis_(Main).ipynb\" target=\"_parent\"><img src=\"https://colab.research.google.com/assets/colab-badge.svg\" alt=\"Open In Colab\"/></a>"
      ]
    },
    {
      "cell_type": "markdown",
      "metadata": {
        "id": "QabHCbe0kKK3"
      },
      "source": [
        "## B.Sc. Thesis - Sura Rzayeva\n",
        "\n",
        "# Predicting the future popularity of online content based on early observations."
      ]
    },
    {
      "cell_type": "markdown",
      "metadata": {
        "id": "LAxOCTJ1kifP"
      },
      "source": [
        "#### Importing libraries"
      ]
    },
    {
      "cell_type": "code",
      "execution_count": null,
      "metadata": {
        "id": "AzoTMQqS7spl"
      },
      "outputs": [],
      "source": [
        "import pandas as pd"
      ]
    },
    {
      "cell_type": "markdown",
      "metadata": {
        "id": "79f09X3ZklqP"
      },
      "source": [
        "Loading dataset from google drive"
      ]
    },
    {
      "cell_type": "code",
      "execution_count": null,
      "metadata": {
        "colab": {
          "base_uri": "https://localhost:8080/"
        },
        "id": "P6Aq0uQ4kgk2",
        "outputId": "328f8cdb-4445-4829-a140-a0cb4a617a4f"
      },
      "outputs": [
        {
          "output_type": "stream",
          "name": "stdout",
          "text": [
            "Drive already mounted at /content/gdrive; to attempt to forcibly remount, call drive.mount(\"/content/gdrive\", force_remount=True).\n"
          ]
        }
      ],
      "source": [
        "from google.colab import drive \n",
        "drive.mount('/content/gdrive')\n",
        "\n",
        "raw_df = pd.read_csv('gdrive/My Drive/Thesis/dataset.csv') "
      ]
    },
    {
      "cell_type": "markdown",
      "metadata": {
        "id": "Zn3pu4FolGv2"
      },
      "source": [
        "## Analyzing the dataset"
      ]
    },
    {
      "cell_type": "code",
      "execution_count": null,
      "metadata": {
        "colab": {
          "base_uri": "https://localhost:8080/"
        },
        "id": "SL42nYoLlJOL",
        "outputId": "3a3778c5-c27e-426c-daa1-f4a5a8deab98"
      },
      "outputs": [
        {
          "output_type": "execute_result",
          "data": {
            "text/plain": [
              "title                 3\n",
              "genres           111727\n",
              "cats              34375\n",
              "meta_cname            0\n",
              "program_start         0\n",
              "program_end           0\n",
              "total_users           0\n",
              "dtype: int64"
            ]
          },
          "metadata": {},
          "execution_count": 16
        }
      ],
      "source": [
        "raw_df.isna().sum()"
      ]
    },
    {
      "cell_type": "code",
      "execution_count": null,
      "metadata": {
        "id": "kSW1rleFlU11"
      },
      "outputs": [],
      "source": [
        "df = raw_df.dropna(axis=0)"
      ]
    },
    {
      "cell_type": "code",
      "execution_count": null,
      "metadata": {
        "colab": {
          "base_uri": "https://localhost:8080/"
        },
        "id": "Mp724fRVlQz2",
        "outputId": "4ef78788-754a-4d7e-9dfd-54d03322fefc"
      },
      "outputs": [
        {
          "output_type": "execute_result",
          "data": {
            "text/plain": [
              "title            0\n",
              "genres           0\n",
              "cats             0\n",
              "meta_cname       0\n",
              "program_start    0\n",
              "program_end      0\n",
              "total_users      0\n",
              "dtype: int64"
            ]
          },
          "metadata": {},
          "execution_count": 18
        }
      ],
      "source": [
        "df.isna().sum()"
      ]
    },
    {
      "cell_type": "markdown",
      "metadata": {
        "id": "HhX5ntKdlgI3"
      },
      "source": [
        "## Feature generation"
      ]
    },
    {
      "cell_type": "code",
      "execution_count": null,
      "metadata": {
        "colab": {
          "base_uri": "https://localhost:8080/"
        },
        "id": "TplsxFZXljx8",
        "outputId": "e4684b60-1bce-416f-e71f-798c1c7c7548"
      },
      "outputs": [
        {
          "output_type": "stream",
          "name": "stderr",
          "text": [
            "/usr/local/lib/python3.7/dist-packages/pandas/core/generic.py:5516: SettingWithCopyWarning: \n",
            "A value is trying to be set on a copy of a slice from a DataFrame.\n",
            "Try using .loc[row_indexer,col_indexer] = value instead\n",
            "\n",
            "See the caveats in the documentation: https://pandas.pydata.org/pandas-docs/stable/user_guide/indexing.html#returning-a-view-versus-a-copy\n",
            "  self[name] = value\n"
          ]
        }
      ],
      "source": [
        "df.program_start = pd.to_datetime(df.program_start)\n",
        "df.program_end = pd.to_datetime(df.program_end)"
      ]
    },
    {
      "cell_type": "code",
      "execution_count": null,
      "metadata": {
        "colab": {
          "base_uri": "https://localhost:8080/"
        },
        "id": "DxhO6i1Sl29t",
        "outputId": "4358740d-0c4a-4745-aa3d-86827ad4d88f"
      },
      "outputs": [
        {
          "output_type": "stream",
          "name": "stderr",
          "text": [
            "/usr/local/lib/python3.7/dist-packages/ipykernel_launcher.py:2: SettingWithCopyWarning: \n",
            "A value is trying to be set on a copy of a slice from a DataFrame.\n",
            "Try using .loc[row_indexer,col_indexer] = value instead\n",
            "\n",
            "See the caveats in the documentation: https://pandas.pydata.org/pandas-docs/stable/user_guide/indexing.html#returning-a-view-versus-a-copy\n",
            "  \n",
            "/usr/local/lib/python3.7/dist-packages/ipykernel_launcher.py:3: SettingWithCopyWarning: \n",
            "A value is trying to be set on a copy of a slice from a DataFrame.\n",
            "Try using .loc[row_indexer,col_indexer] = value instead\n",
            "\n",
            "See the caveats in the documentation: https://pandas.pydata.org/pandas-docs/stable/user_guide/indexing.html#returning-a-view-versus-a-copy\n",
            "  This is separate from the ipykernel package so we can avoid doing imports until\n",
            "/usr/local/lib/python3.7/dist-packages/ipykernel_launcher.py:5: SettingWithCopyWarning: \n",
            "A value is trying to be set on a copy of a slice from a DataFrame.\n",
            "Try using .loc[row_indexer,col_indexer] = value instead\n",
            "\n",
            "See the caveats in the documentation: https://pandas.pydata.org/pandas-docs/stable/user_guide/indexing.html#returning-a-view-versus-a-copy\n",
            "  \"\"\"\n",
            "/usr/local/lib/python3.7/dist-packages/ipykernel_launcher.py:6: SettingWithCopyWarning: \n",
            "A value is trying to be set on a copy of a slice from a DataFrame.\n",
            "Try using .loc[row_indexer,col_indexer] = value instead\n",
            "\n",
            "See the caveats in the documentation: https://pandas.pydata.org/pandas-docs/stable/user_guide/indexing.html#returning-a-view-versus-a-copy\n",
            "  \n",
            "/usr/local/lib/python3.7/dist-packages/ipykernel_launcher.py:7: SettingWithCopyWarning: \n",
            "A value is trying to be set on a copy of a slice from a DataFrame.\n",
            "Try using .loc[row_indexer,col_indexer] = value instead\n",
            "\n",
            "See the caveats in the documentation: https://pandas.pydata.org/pandas-docs/stable/user_guide/indexing.html#returning-a-view-versus-a-copy\n",
            "  import sys\n",
            "/usr/local/lib/python3.7/dist-packages/ipykernel_launcher.py:8: SettingWithCopyWarning: \n",
            "A value is trying to be set on a copy of a slice from a DataFrame.\n",
            "Try using .loc[row_indexer,col_indexer] = value instead\n",
            "\n",
            "See the caveats in the documentation: https://pandas.pydata.org/pandas-docs/stable/user_guide/indexing.html#returning-a-view-versus-a-copy\n",
            "  \n",
            "/usr/local/lib/python3.7/dist-packages/ipykernel_launcher.py:16: SettingWithCopyWarning: \n",
            "A value is trying to be set on a copy of a slice from a DataFrame.\n",
            "Try using .loc[row_indexer,col_indexer] = value instead\n",
            "\n",
            "See the caveats in the documentation: https://pandas.pydata.org/pandas-docs/stable/user_guide/indexing.html#returning-a-view-versus-a-copy\n",
            "  app.launch_new_instance()\n",
            "/usr/local/lib/python3.7/dist-packages/ipykernel_launcher.py:17: SettingWithCopyWarning: \n",
            "A value is trying to be set on a copy of a slice from a DataFrame.\n",
            "Try using .loc[row_indexer,col_indexer] = value instead\n",
            "\n",
            "See the caveats in the documentation: https://pandas.pydata.org/pandas-docs/stable/user_guide/indexing.html#returning-a-view-versus-a-copy\n",
            "/usr/local/lib/python3.7/dist-packages/ipykernel_launcher.py:27: SettingWithCopyWarning: \n",
            "A value is trying to be set on a copy of a slice from a DataFrame.\n",
            "Try using .loc[row_indexer,col_indexer] = value instead\n",
            "\n",
            "See the caveats in the documentation: https://pandas.pydata.org/pandas-docs/stable/user_guide/indexing.html#returning-a-view-versus-a-copy\n",
            "/usr/local/lib/python3.7/dist-packages/ipykernel_launcher.py:41: SettingWithCopyWarning: \n",
            "A value is trying to be set on a copy of a slice from a DataFrame.\n",
            "Try using .loc[row_indexer,col_indexer] = value instead\n",
            "\n",
            "See the caveats in the documentation: https://pandas.pydata.org/pandas-docs/stable/user_guide/indexing.html#returning-a-view-versus-a-copy\n",
            "/usr/local/lib/python3.7/dist-packages/ipykernel_launcher.py:52: SettingWithCopyWarning: \n",
            "A value is trying to be set on a copy of a slice from a DataFrame.\n",
            "Try using .loc[row_indexer,col_indexer] = value instead\n",
            "\n",
            "See the caveats in the documentation: https://pandas.pydata.org/pandas-docs/stable/user_guide/indexing.html#returning-a-view-versus-a-copy\n"
          ]
        }
      ],
      "source": [
        "# Duration, year, month, days, hour\n",
        "df['duration'] = df.program_end - df.program_start\n",
        "df['duration'] = df['duration'].dt.total_seconds().div(60).astype(int)\n",
        "\n",
        "df['year'] = df.program_start.dt.year\n",
        "df['month'] = df.program_start.dt.month\n",
        "df['days'] = df.program_start.dt.day\n",
        "df['hour'] = df.program_start.dt.hour\n",
        "\n",
        "# Weekday\n",
        "week_day = []\n",
        "for i in df.program_start:\n",
        "    week_day_ = i.strftime(\"%w\")\n",
        "    week_day.append(week_day_)\n",
        "\n",
        "df['week_day'] = week_day\n",
        "df['week_day'] = df['week_day'].apply(lambda x: int(x) + 1)\n",
        "\n",
        "# Is_weekend\n",
        "weekend = []\n",
        "for i in df.week_day:\n",
        "    if int(i) > 5:\n",
        "        weekend.append(True)\n",
        "    else:\n",
        "        weekend.append(False)\n",
        "\n",
        "df['is_weekend'] = weekend\n",
        "\n",
        "# Season\n",
        "season = []\n",
        "for i in df.month:\n",
        "    if int(i) == 1 or int(i) == 12 or int(i) == 2:\n",
        "      season.append('Winter')\n",
        "    elif int(i) == 3 or int(i) == 4 or int(i) == 5:\n",
        "      season.append('Spring')\n",
        "    elif int(i) == 6 or int(i) == 7 or int(i) == 8:\n",
        "      season.append('Summer')\n",
        "    elif int(i) == 9 or int(i) == 10 or int(i) == 11:\n",
        "      season.append('Autumn')\n",
        "\n",
        "df['season'] = season\n",
        "\n",
        "# Prime time\n",
        "prime_time = []\n",
        "\n",
        "for h in df.hour:\n",
        "    if int(h) > 20:\n",
        "        prime_time.append(True)\n",
        "    else:\n",
        "        prime_time.append(False)\n",
        "\n",
        "df['prime_time'] = prime_time"
      ]
    },
    {
      "cell_type": "code",
      "execution_count": null,
      "metadata": {
        "colab": {
          "base_uri": "https://localhost:8080/"
        },
        "id": "qdHwxEH8mtTW",
        "outputId": "78ec86a5-acd2-433a-a57a-bc8c881164f5"
      },
      "outputs": [
        {
          "output_type": "stream",
          "name": "stderr",
          "text": [
            "/usr/local/lib/python3.7/dist-packages/ipykernel_launcher.py:8: SettingWithCopyWarning: \n",
            "A value is trying to be set on a copy of a slice from a DataFrame.\n",
            "Try using .loc[row_indexer,col_indexer] = value instead\n",
            "\n",
            "See the caveats in the documentation: https://pandas.pydata.org/pandas-docs/stable/user_guide/indexing.html#returning-a-view-versus-a-copy\n",
            "  \n",
            "/usr/local/lib/python3.7/dist-packages/ipykernel_launcher.py:9: SettingWithCopyWarning: \n",
            "A value is trying to be set on a copy of a slice from a DataFrame.\n",
            "Try using .loc[row_indexer,col_indexer] = value instead\n",
            "\n",
            "See the caveats in the documentation: https://pandas.pydata.org/pandas-docs/stable/user_guide/indexing.html#returning-a-view-versus-a-copy\n",
            "  if __name__ == '__main__':\n"
          ]
        }
      ],
      "source": [
        "# Adding holiday days and names\n",
        "from datetime import date\n",
        "import calendar\n",
        "import holidays\n",
        "\n",
        "de_holidays = holidays.DE()\n",
        "\n",
        "df['is_holiday'] = df['program_start'].apply(lambda x: x in de_holidays)\n",
        "df['holiday_name'] = df['program_start'].apply(lambda x: de_holidays.get(x))"
      ]
    },
    {
      "cell_type": "markdown",
      "metadata": {
        "id": "e-1c7fP1nIKJ"
      },
      "source": [
        "## Cleaning the dataset"
      ]
    },
    {
      "cell_type": "code",
      "execution_count": null,
      "metadata": {
        "id": "kYqK2PtwnF0x"
      },
      "outputs": [],
      "source": [
        "df = df.drop(columns=[\"program_start\", \"program_end\", \"holiday_name\"])"
      ]
    },
    {
      "cell_type": "code",
      "source": [
        "len(df.genres.unique())"
      ],
      "metadata": {
        "colab": {
          "base_uri": "https://localhost:8080/"
        },
        "id": "tnNlkMP7iQXh",
        "outputId": "1305fa3b-f47c-41b5-8a0d-d9d54b9e188c"
      },
      "execution_count": null,
      "outputs": [
        {
          "output_type": "execute_result",
          "data": {
            "text/plain": [
              "2487"
            ]
          },
          "metadata": {},
          "execution_count": 23
        }
      ]
    },
    {
      "cell_type": "code",
      "execution_count": null,
      "metadata": {
        "id": "gXVVEV4DnZMP"
      },
      "outputs": [],
      "source": [
        "# Simplifying the 'genres' feature\n",
        "len(list(df.genres.unique()))\n",
        "\n",
        "genres_list = []\n",
        "\n",
        "for row in df['genres']:\n",
        "    genres_list.append(row.split(':')[0])\n",
        "\n",
        "genres_list\n",
        "df['genres'] = genres_list\n",
        "\n",
        "len(list(df.genres.unique()))\n",
        "\n",
        "Sport = [\"Soccer\", \"Boxing\", \"Winter Sports\", \"Olympics\", \"Football\", \"Athletics\", \"Equestrian\", \"Aquatic Sports\", \"Handball\",  \"Darts\", \"Curling\", \"US Sports\", \"Rugby\", \"Tennis\", \"Golf\", \"Team Sports\", \"Hurling\", \"Basketball\", \"Martial Arts\", \"Cycling\", \"Ice Hockey\", \"Gaelic Games\", \"Volleyball\", \"Extreme Sports\", \"Other Sports\", \"eSports\", \"Cricket\"]\n",
        "Music = [\"Music\", \"Music Show\", \"Pop & Rock\", \"Folk Music\", \"Classical Music\", \"Music Clips\", \"Music Movie\", \"Musical\", \"Jazz\"]\n",
        "Children = [\"Children's Show\", \"Children's Movie\", \"Children's Series\", \"Children's News\"]\n",
        "Hobby = [\"Home Improvement\", \"Fishing\", \"Home & Garden\"]\n",
        "Reality = [\"Reality\", \"Courtroom Reality Show\"]\n",
        "Talk = [\"Talk Show\", \"Interview\"]\n",
        "Youth = [\"Youth\", \"Coming-of-Age\"]\n",
        "News = [\"News\", \"Report\", \"Disasters\"]\n",
        "Show = [\"Entertainment show\", \"Award show\", \"Game Show\"]\n",
        "Fantasy = [\"Fantasy\", \"Fairy Tale\"]\n",
        "Cars = [\"Motor Sports\", \"Motor & Traffic\"]\n",
        "Health = [\"Health\", \"Hospital\"]\n",
        "\n",
        "modified_genres = []\n",
        "\n",
        "for value in df.genres:\n",
        "    if value in Sport:\n",
        "      modified_genres.append('Sport')\n",
        "    elif value in Music:\n",
        "      modified_genres.append('Music')\n",
        "    elif value in Children:\n",
        "      modified_genres.append('Children')\n",
        "    elif value in Hobby:\n",
        "      modified_genres.append('Hobby')\n",
        "    elif value in Reality:\n",
        "      modified_genres.append('Reality')\n",
        "    elif value in Talk:\n",
        "      modified_genres.append('Talk')\n",
        "    elif value in Youth:\n",
        "      modified_genres.append('Youth')\n",
        "    elif value in News:\n",
        "      modified_genres.append('News')\n",
        "    elif value in Show:\n",
        "      modified_genres.append('Show')\n",
        "    elif value in Fantasy:\n",
        "      modified_genres.append('Fantasy')\n",
        "    elif value in Cars:\n",
        "      modified_genres.append('Cars')\n",
        "    elif value in Health:\n",
        "      modified_genres.append('Health')\n",
        "    else:\n",
        "      modified_genres.append(value)\n",
        "  \n",
        "df['genres'] = modified_genres"
      ]
    },
    {
      "cell_type": "code",
      "execution_count": null,
      "metadata": {
        "colab": {
          "base_uri": "https://localhost:8080/"
        },
        "id": "1I8JOwa8nx5R",
        "outputId": "3b6e667a-24ad-4007-ec93-6bb4b683ff4d"
      },
      "outputs": [
        {
          "output_type": "execute_result",
          "data": {
            "text/plain": [
              "53"
            ]
          },
          "metadata": {},
          "execution_count": 25
        }
      ],
      "source": [
        "len(df.genres.unique())"
      ]
    },
    {
      "cell_type": "markdown",
      "metadata": {
        "id": "UdGpWhRhn-S2"
      },
      "source": [
        "## Categorizing the target variable"
      ]
    },
    {
      "cell_type": "code",
      "execution_count": null,
      "metadata": {
        "colab": {
          "base_uri": "https://localhost:8080/"
        },
        "id": "f7zxDXkXoA0y",
        "outputId": "bd824d72-a5a8-4944-9b64-0e9d1fac36c8"
      },
      "outputs": [
        {
          "output_type": "execute_result",
          "data": {
            "text/plain": [
              "array(['star', 'popular', 'medium', 'unpopular'], dtype=object)"
            ]
          },
          "metadata": {},
          "execution_count": 26
        }
      ],
      "source": [
        "popularity_cat = []\n",
        "\n",
        "for row in df['total_users']:\n",
        "    if row >= 20000:\n",
        "        popularity_cat.append('star')\n",
        "    elif row < 20000 and row >= 7000:\n",
        "        popularity_cat.append('popular')\n",
        "    elif row < 7000 and row >= 2000:\n",
        "        popularity_cat.append('medium')\n",
        "    else:\n",
        "        popularity_cat.append('unpopular')\n",
        "\n",
        "df['popularity_cat'] = popularity_cat\n",
        "\n",
        "df['popularity_cat'].unique()"
      ]
    },
    {
      "cell_type": "code",
      "execution_count": null,
      "metadata": {
        "colab": {
          "base_uri": "https://localhost:8080/"
        },
        "id": "X7JvlbVuoH6r",
        "outputId": "5291e452-a94c-4679-f62e-7b90003ffc26"
      },
      "outputs": [
        {
          "output_type": "execute_result",
          "data": {
            "text/plain": [
              "unpopular    450459\n",
              "medium       372409\n",
              "popular       79903\n",
              "star          20393\n",
              "Name: popularity_cat, dtype: int64"
            ]
          },
          "metadata": {},
          "execution_count": 27
        }
      ],
      "source": [
        "df['popularity_cat'].value_counts()"
      ]
    },
    {
      "cell_type": "code",
      "execution_count": null,
      "metadata": {
        "id": "WZzZp533oNek"
      },
      "outputs": [],
      "source": [
        "df.to_csv('cleaned_data.csv', index = False)"
      ]
    },
    {
      "cell_type": "markdown",
      "metadata": {
        "id": "jlBiIBXNoPld"
      },
      "source": [
        "## Encoding nominal values"
      ]
    },
    {
      "cell_type": "code",
      "execution_count": null,
      "metadata": {
        "colab": {
          "base_uri": "https://localhost:8080/",
          "height": 206
        },
        "id": "KVgvTTXRoYf2",
        "outputId": "31bfe924-5e47-4225-acbe-74678c4797f5"
      },
      "outputs": [
        {
          "output_type": "execute_result",
          "data": {
            "text/plain": [
              "                 title genres           cats        meta_cname  total_users  \\\n",
              "2      Schlag den Star   Show  Entertainment  pro7_deutschland       231073   \n",
              "3  Bundestagswahl 2021   News    Information               ard       216943   \n",
              "4      Schlag den Star   Show  Entertainment  pro7_deutschland       214322   \n",
              "5      Schlag den Star   Show  Entertainment  pro7_deutschland       211244   \n",
              "6      Wetten, dass..?   Show  Entertainment               zdf       205743   \n",
              "\n",
              "   duration  year  month  days  hour  week_day  is_weekend  season  \\\n",
              "2       245  2022      1    29    19         7        True  Winter   \n",
              "3       165  2021      9    26    15         1       False  Autumn   \n",
              "4       240  2021     11    27    19         7        True  Autumn   \n",
              "5       245  2021     12    18    19         7        True  Winter   \n",
              "6       180  2021     11     6    19         7        True  Autumn   \n",
              "\n",
              "   prime_time is_holiday popularity_cat  \n",
              "2       False      False           star  \n",
              "3       False      False           star  \n",
              "4       False      False           star  \n",
              "5       False      False           star  \n",
              "6       False      False           star  "
            ],
            "text/html": [
              "\n",
              "  <div id=\"df-1881db78-8023-4a85-9d69-f88c64b70158\">\n",
              "    <div class=\"colab-df-container\">\n",
              "      <div>\n",
              "<style scoped>\n",
              "    .dataframe tbody tr th:only-of-type {\n",
              "        vertical-align: middle;\n",
              "    }\n",
              "\n",
              "    .dataframe tbody tr th {\n",
              "        vertical-align: top;\n",
              "    }\n",
              "\n",
              "    .dataframe thead th {\n",
              "        text-align: right;\n",
              "    }\n",
              "</style>\n",
              "<table border=\"1\" class=\"dataframe\">\n",
              "  <thead>\n",
              "    <tr style=\"text-align: right;\">\n",
              "      <th></th>\n",
              "      <th>title</th>\n",
              "      <th>genres</th>\n",
              "      <th>cats</th>\n",
              "      <th>meta_cname</th>\n",
              "      <th>total_users</th>\n",
              "      <th>duration</th>\n",
              "      <th>year</th>\n",
              "      <th>month</th>\n",
              "      <th>days</th>\n",
              "      <th>hour</th>\n",
              "      <th>week_day</th>\n",
              "      <th>is_weekend</th>\n",
              "      <th>season</th>\n",
              "      <th>prime_time</th>\n",
              "      <th>is_holiday</th>\n",
              "      <th>popularity_cat</th>\n",
              "    </tr>\n",
              "  </thead>\n",
              "  <tbody>\n",
              "    <tr>\n",
              "      <th>2</th>\n",
              "      <td>Schlag den Star</td>\n",
              "      <td>Show</td>\n",
              "      <td>Entertainment</td>\n",
              "      <td>pro7_deutschland</td>\n",
              "      <td>231073</td>\n",
              "      <td>245</td>\n",
              "      <td>2022</td>\n",
              "      <td>1</td>\n",
              "      <td>29</td>\n",
              "      <td>19</td>\n",
              "      <td>7</td>\n",
              "      <td>True</td>\n",
              "      <td>Winter</td>\n",
              "      <td>False</td>\n",
              "      <td>False</td>\n",
              "      <td>star</td>\n",
              "    </tr>\n",
              "    <tr>\n",
              "      <th>3</th>\n",
              "      <td>Bundestagswahl 2021</td>\n",
              "      <td>News</td>\n",
              "      <td>Information</td>\n",
              "      <td>ard</td>\n",
              "      <td>216943</td>\n",
              "      <td>165</td>\n",
              "      <td>2021</td>\n",
              "      <td>9</td>\n",
              "      <td>26</td>\n",
              "      <td>15</td>\n",
              "      <td>1</td>\n",
              "      <td>False</td>\n",
              "      <td>Autumn</td>\n",
              "      <td>False</td>\n",
              "      <td>False</td>\n",
              "      <td>star</td>\n",
              "    </tr>\n",
              "    <tr>\n",
              "      <th>4</th>\n",
              "      <td>Schlag den Star</td>\n",
              "      <td>Show</td>\n",
              "      <td>Entertainment</td>\n",
              "      <td>pro7_deutschland</td>\n",
              "      <td>214322</td>\n",
              "      <td>240</td>\n",
              "      <td>2021</td>\n",
              "      <td>11</td>\n",
              "      <td>27</td>\n",
              "      <td>19</td>\n",
              "      <td>7</td>\n",
              "      <td>True</td>\n",
              "      <td>Autumn</td>\n",
              "      <td>False</td>\n",
              "      <td>False</td>\n",
              "      <td>star</td>\n",
              "    </tr>\n",
              "    <tr>\n",
              "      <th>5</th>\n",
              "      <td>Schlag den Star</td>\n",
              "      <td>Show</td>\n",
              "      <td>Entertainment</td>\n",
              "      <td>pro7_deutschland</td>\n",
              "      <td>211244</td>\n",
              "      <td>245</td>\n",
              "      <td>2021</td>\n",
              "      <td>12</td>\n",
              "      <td>18</td>\n",
              "      <td>19</td>\n",
              "      <td>7</td>\n",
              "      <td>True</td>\n",
              "      <td>Winter</td>\n",
              "      <td>False</td>\n",
              "      <td>False</td>\n",
              "      <td>star</td>\n",
              "    </tr>\n",
              "    <tr>\n",
              "      <th>6</th>\n",
              "      <td>Wetten, dass..?</td>\n",
              "      <td>Show</td>\n",
              "      <td>Entertainment</td>\n",
              "      <td>zdf</td>\n",
              "      <td>205743</td>\n",
              "      <td>180</td>\n",
              "      <td>2021</td>\n",
              "      <td>11</td>\n",
              "      <td>6</td>\n",
              "      <td>19</td>\n",
              "      <td>7</td>\n",
              "      <td>True</td>\n",
              "      <td>Autumn</td>\n",
              "      <td>False</td>\n",
              "      <td>False</td>\n",
              "      <td>star</td>\n",
              "    </tr>\n",
              "  </tbody>\n",
              "</table>\n",
              "</div>\n",
              "      <button class=\"colab-df-convert\" onclick=\"convertToInteractive('df-1881db78-8023-4a85-9d69-f88c64b70158')\"\n",
              "              title=\"Convert this dataframe to an interactive table.\"\n",
              "              style=\"display:none;\">\n",
              "        \n",
              "  <svg xmlns=\"http://www.w3.org/2000/svg\" height=\"24px\"viewBox=\"0 0 24 24\"\n",
              "       width=\"24px\">\n",
              "    <path d=\"M0 0h24v24H0V0z\" fill=\"none\"/>\n",
              "    <path d=\"M18.56 5.44l.94 2.06.94-2.06 2.06-.94-2.06-.94-.94-2.06-.94 2.06-2.06.94zm-11 1L8.5 8.5l.94-2.06 2.06-.94-2.06-.94L8.5 2.5l-.94 2.06-2.06.94zm10 10l.94 2.06.94-2.06 2.06-.94-2.06-.94-.94-2.06-.94 2.06-2.06.94z\"/><path d=\"M17.41 7.96l-1.37-1.37c-.4-.4-.92-.59-1.43-.59-.52 0-1.04.2-1.43.59L10.3 9.45l-7.72 7.72c-.78.78-.78 2.05 0 2.83L4 21.41c.39.39.9.59 1.41.59.51 0 1.02-.2 1.41-.59l7.78-7.78 2.81-2.81c.8-.78.8-2.07 0-2.86zM5.41 20L4 18.59l7.72-7.72 1.47 1.35L5.41 20z\"/>\n",
              "  </svg>\n",
              "      </button>\n",
              "      \n",
              "  <style>\n",
              "    .colab-df-container {\n",
              "      display:flex;\n",
              "      flex-wrap:wrap;\n",
              "      gap: 12px;\n",
              "    }\n",
              "\n",
              "    .colab-df-convert {\n",
              "      background-color: #E8F0FE;\n",
              "      border: none;\n",
              "      border-radius: 50%;\n",
              "      cursor: pointer;\n",
              "      display: none;\n",
              "      fill: #1967D2;\n",
              "      height: 32px;\n",
              "      padding: 0 0 0 0;\n",
              "      width: 32px;\n",
              "    }\n",
              "\n",
              "    .colab-df-convert:hover {\n",
              "      background-color: #E2EBFA;\n",
              "      box-shadow: 0px 1px 2px rgba(60, 64, 67, 0.3), 0px 1px 3px 1px rgba(60, 64, 67, 0.15);\n",
              "      fill: #174EA6;\n",
              "    }\n",
              "\n",
              "    [theme=dark] .colab-df-convert {\n",
              "      background-color: #3B4455;\n",
              "      fill: #D2E3FC;\n",
              "    }\n",
              "\n",
              "    [theme=dark] .colab-df-convert:hover {\n",
              "      background-color: #434B5C;\n",
              "      box-shadow: 0px 1px 3px 1px rgba(0, 0, 0, 0.15);\n",
              "      filter: drop-shadow(0px 1px 2px rgba(0, 0, 0, 0.3));\n",
              "      fill: #FFFFFF;\n",
              "    }\n",
              "  </style>\n",
              "\n",
              "      <script>\n",
              "        const buttonEl =\n",
              "          document.querySelector('#df-1881db78-8023-4a85-9d69-f88c64b70158 button.colab-df-convert');\n",
              "        buttonEl.style.display =\n",
              "          google.colab.kernel.accessAllowed ? 'block' : 'none';\n",
              "\n",
              "        async function convertToInteractive(key) {\n",
              "          const element = document.querySelector('#df-1881db78-8023-4a85-9d69-f88c64b70158');\n",
              "          const dataTable =\n",
              "            await google.colab.kernel.invokeFunction('convertToInteractive',\n",
              "                                                     [key], {});\n",
              "          if (!dataTable) return;\n",
              "\n",
              "          const docLinkHtml = 'Like what you see? Visit the ' +\n",
              "            '<a target=\"_blank\" href=https://colab.research.google.com/notebooks/data_table.ipynb>data table notebook</a>'\n",
              "            + ' to learn more about interactive tables.';\n",
              "          element.innerHTML = '';\n",
              "          dataTable['output_type'] = 'display_data';\n",
              "          await google.colab.output.renderOutput(dataTable, element);\n",
              "          const docLink = document.createElement('div');\n",
              "          docLink.innerHTML = docLinkHtml;\n",
              "          element.appendChild(docLink);\n",
              "        }\n",
              "      </script>\n",
              "    </div>\n",
              "  </div>\n",
              "  "
            ]
          },
          "metadata": {},
          "execution_count": 29
        }
      ],
      "source": [
        "df.head(5)"
      ]
    },
    {
      "cell_type": "code",
      "execution_count": null,
      "metadata": {
        "colab": {
          "base_uri": "https://localhost:8080/"
        },
        "id": "Cv3iiASVoSDa",
        "outputId": "8a8a7ff0-676a-4ecc-8e0f-41d7dd25838b"
      },
      "outputs": [
        {
          "output_type": "stream",
          "name": "stderr",
          "text": [
            "/usr/local/lib/python3.7/dist-packages/sklearn/preprocessing/_label.py:115: DataConversionWarning: A column-vector y was passed when a 1d array was expected. Please change the shape of y to (n_samples, ), for example using ravel().\n",
            "  y = column_or_1d(y, warn=True)\n"
          ]
        }
      ],
      "source": [
        "from sklearn.preprocessing import LabelEncoder\n",
        "\n",
        "ord_enc = LabelEncoder()\n",
        "\n",
        "cat_column_names = ['title', 'genres', 'cats', 'meta_cname', 'year', 'month', 'days', 'hour', 'week_day', 'is_weekend', 'season', 'prime_time', \n",
        "                    'is_holiday', 'popularity_cat']\n",
        "\n",
        "for cat_col in cat_column_names:\n",
        "    cat_col_name_encode = str(cat_col) + str('_encoded')\n",
        "    df[cat_col_name_encode] = ord_enc.fit_transform(df[[cat_col]])"
      ]
    },
    {
      "cell_type": "code",
      "source": [
        "df"
      ],
      "metadata": {
        "colab": {
          "base_uri": "https://localhost:8080/",
          "height": 574
        },
        "id": "J2UH2yB7YCrA",
        "outputId": "f3af5264-b9b7-4d2d-c8ed-67a5b276ab7b"
      },
      "execution_count": null,
      "outputs": [
        {
          "output_type": "execute_result",
          "data": {
            "text/plain": [
              "                                           title         genres  \\\n",
              "2                                Schlag den Star           Show   \n",
              "3                            Bundestagswahl 2021           News   \n",
              "4                                Schlag den Star           Show   \n",
              "5                                Schlag den Star           Show   \n",
              "6                                Wetten, dass..?           Show   \n",
              "...                                          ...            ...   \n",
              "1050033                    Le journal de la nuit        Weather   \n",
              "1050034                               Tagesschau       Magazine   \n",
              "1050035                              Infomercial  Home Shopping   \n",
              "1050036  Mountain Men - Überleben in der Wildnis         Nature   \n",
              "1050037                            Porta a porta           Talk   \n",
              "\n",
              "                  cats              meta_cname  total_users  duration  year  \\\n",
              "2        Entertainment        pro7_deutschland       231073       245  2022   \n",
              "3          Information                     ard       216943       165  2021   \n",
              "4        Entertainment        pro7_deutschland       214322       240  2021   \n",
              "5        Entertainment        pro7_deutschland       211244       245  2021   \n",
              "6        Entertainment                     zdf       205743       180  2021   \n",
              "...                ...                     ...          ...       ...   ...   \n",
              "1050033    Information  canalF_la_chaine_meteo         1001       510  2021   \n",
              "1050034    Information            das_erste_de         1001        10  2022   \n",
              "1050035    Information                  tele-5         1001        15  2022   \n",
              "1050036         Series             kabel1_doku         1001        40  2021   \n",
              "1050037    Information                 rai-uno         1001        15  2022   \n",
              "\n",
              "         month  days  hour  ...  year_encoded  month_encoded days_encoded  \\\n",
              "2            1    29    19  ...             1              0           28   \n",
              "3            9    26    15  ...             0              8           25   \n",
              "4           11    27    19  ...             0             10           26   \n",
              "5           12    18    19  ...             0             11           17   \n",
              "6           11     6    19  ...             0             10            5   \n",
              "...        ...   ...   ...  ...           ...            ...          ...   \n",
              "1050033      8     9    20  ...             0              7            8   \n",
              "1050034      5    24    13  ...             1              4           23   \n",
              "1050035      5    19    23  ...             1              4           18   \n",
              "1050036     10    14    12  ...             0              9           13   \n",
              "1050037      6     1    21  ...             1              5            0   \n",
              "\n",
              "         hour_encoded week_day_encoded is_weekend_encoded  season_encoded  \\\n",
              "2                  19                6                  1               3   \n",
              "3                  15                0                  0               0   \n",
              "4                  19                6                  1               0   \n",
              "5                  19                6                  1               3   \n",
              "6                  19                6                  1               0   \n",
              "...               ...              ...                ...             ...   \n",
              "1050033            20                1                  0               2   \n",
              "1050034            13                2                  0               1   \n",
              "1050035            23                4                  0               1   \n",
              "1050036            12                4                  0               0   \n",
              "1050037            21                3                  0               2   \n",
              "\n",
              "         prime_time_encoded  is_holiday_encoded  popularity_cat_encoded  \n",
              "2                         0                   0                       2  \n",
              "3                         0                   0                       2  \n",
              "4                         0                   0                       2  \n",
              "5                         0                   0                       2  \n",
              "6                         0                   0                       2  \n",
              "...                     ...                 ...                     ...  \n",
              "1050033                   0                   0                       3  \n",
              "1050034                   0                   0                       3  \n",
              "1050035                   1                   0                       3  \n",
              "1050036                   0                   0                       3  \n",
              "1050037                   1                   0                       3  \n",
              "\n",
              "[923164 rows x 30 columns]"
            ],
            "text/html": [
              "\n",
              "  <div id=\"df-a8840b43-a4ec-447f-be1b-dfef7d7929a8\">\n",
              "    <div class=\"colab-df-container\">\n",
              "      <div>\n",
              "<style scoped>\n",
              "    .dataframe tbody tr th:only-of-type {\n",
              "        vertical-align: middle;\n",
              "    }\n",
              "\n",
              "    .dataframe tbody tr th {\n",
              "        vertical-align: top;\n",
              "    }\n",
              "\n",
              "    .dataframe thead th {\n",
              "        text-align: right;\n",
              "    }\n",
              "</style>\n",
              "<table border=\"1\" class=\"dataframe\">\n",
              "  <thead>\n",
              "    <tr style=\"text-align: right;\">\n",
              "      <th></th>\n",
              "      <th>title</th>\n",
              "      <th>genres</th>\n",
              "      <th>cats</th>\n",
              "      <th>meta_cname</th>\n",
              "      <th>total_users</th>\n",
              "      <th>duration</th>\n",
              "      <th>year</th>\n",
              "      <th>month</th>\n",
              "      <th>days</th>\n",
              "      <th>hour</th>\n",
              "      <th>...</th>\n",
              "      <th>year_encoded</th>\n",
              "      <th>month_encoded</th>\n",
              "      <th>days_encoded</th>\n",
              "      <th>hour_encoded</th>\n",
              "      <th>week_day_encoded</th>\n",
              "      <th>is_weekend_encoded</th>\n",
              "      <th>season_encoded</th>\n",
              "      <th>prime_time_encoded</th>\n",
              "      <th>is_holiday_encoded</th>\n",
              "      <th>popularity_cat_encoded</th>\n",
              "    </tr>\n",
              "  </thead>\n",
              "  <tbody>\n",
              "    <tr>\n",
              "      <th>2</th>\n",
              "      <td>Schlag den Star</td>\n",
              "      <td>Show</td>\n",
              "      <td>Entertainment</td>\n",
              "      <td>pro7_deutschland</td>\n",
              "      <td>231073</td>\n",
              "      <td>245</td>\n",
              "      <td>2022</td>\n",
              "      <td>1</td>\n",
              "      <td>29</td>\n",
              "      <td>19</td>\n",
              "      <td>...</td>\n",
              "      <td>1</td>\n",
              "      <td>0</td>\n",
              "      <td>28</td>\n",
              "      <td>19</td>\n",
              "      <td>6</td>\n",
              "      <td>1</td>\n",
              "      <td>3</td>\n",
              "      <td>0</td>\n",
              "      <td>0</td>\n",
              "      <td>2</td>\n",
              "    </tr>\n",
              "    <tr>\n",
              "      <th>3</th>\n",
              "      <td>Bundestagswahl 2021</td>\n",
              "      <td>News</td>\n",
              "      <td>Information</td>\n",
              "      <td>ard</td>\n",
              "      <td>216943</td>\n",
              "      <td>165</td>\n",
              "      <td>2021</td>\n",
              "      <td>9</td>\n",
              "      <td>26</td>\n",
              "      <td>15</td>\n",
              "      <td>...</td>\n",
              "      <td>0</td>\n",
              "      <td>8</td>\n",
              "      <td>25</td>\n",
              "      <td>15</td>\n",
              "      <td>0</td>\n",
              "      <td>0</td>\n",
              "      <td>0</td>\n",
              "      <td>0</td>\n",
              "      <td>0</td>\n",
              "      <td>2</td>\n",
              "    </tr>\n",
              "    <tr>\n",
              "      <th>4</th>\n",
              "      <td>Schlag den Star</td>\n",
              "      <td>Show</td>\n",
              "      <td>Entertainment</td>\n",
              "      <td>pro7_deutschland</td>\n",
              "      <td>214322</td>\n",
              "      <td>240</td>\n",
              "      <td>2021</td>\n",
              "      <td>11</td>\n",
              "      <td>27</td>\n",
              "      <td>19</td>\n",
              "      <td>...</td>\n",
              "      <td>0</td>\n",
              "      <td>10</td>\n",
              "      <td>26</td>\n",
              "      <td>19</td>\n",
              "      <td>6</td>\n",
              "      <td>1</td>\n",
              "      <td>0</td>\n",
              "      <td>0</td>\n",
              "      <td>0</td>\n",
              "      <td>2</td>\n",
              "    </tr>\n",
              "    <tr>\n",
              "      <th>5</th>\n",
              "      <td>Schlag den Star</td>\n",
              "      <td>Show</td>\n",
              "      <td>Entertainment</td>\n",
              "      <td>pro7_deutschland</td>\n",
              "      <td>211244</td>\n",
              "      <td>245</td>\n",
              "      <td>2021</td>\n",
              "      <td>12</td>\n",
              "      <td>18</td>\n",
              "      <td>19</td>\n",
              "      <td>...</td>\n",
              "      <td>0</td>\n",
              "      <td>11</td>\n",
              "      <td>17</td>\n",
              "      <td>19</td>\n",
              "      <td>6</td>\n",
              "      <td>1</td>\n",
              "      <td>3</td>\n",
              "      <td>0</td>\n",
              "      <td>0</td>\n",
              "      <td>2</td>\n",
              "    </tr>\n",
              "    <tr>\n",
              "      <th>6</th>\n",
              "      <td>Wetten, dass..?</td>\n",
              "      <td>Show</td>\n",
              "      <td>Entertainment</td>\n",
              "      <td>zdf</td>\n",
              "      <td>205743</td>\n",
              "      <td>180</td>\n",
              "      <td>2021</td>\n",
              "      <td>11</td>\n",
              "      <td>6</td>\n",
              "      <td>19</td>\n",
              "      <td>...</td>\n",
              "      <td>0</td>\n",
              "      <td>10</td>\n",
              "      <td>5</td>\n",
              "      <td>19</td>\n",
              "      <td>6</td>\n",
              "      <td>1</td>\n",
              "      <td>0</td>\n",
              "      <td>0</td>\n",
              "      <td>0</td>\n",
              "      <td>2</td>\n",
              "    </tr>\n",
              "    <tr>\n",
              "      <th>...</th>\n",
              "      <td>...</td>\n",
              "      <td>...</td>\n",
              "      <td>...</td>\n",
              "      <td>...</td>\n",
              "      <td>...</td>\n",
              "      <td>...</td>\n",
              "      <td>...</td>\n",
              "      <td>...</td>\n",
              "      <td>...</td>\n",
              "      <td>...</td>\n",
              "      <td>...</td>\n",
              "      <td>...</td>\n",
              "      <td>...</td>\n",
              "      <td>...</td>\n",
              "      <td>...</td>\n",
              "      <td>...</td>\n",
              "      <td>...</td>\n",
              "      <td>...</td>\n",
              "      <td>...</td>\n",
              "      <td>...</td>\n",
              "      <td>...</td>\n",
              "    </tr>\n",
              "    <tr>\n",
              "      <th>1050033</th>\n",
              "      <td>Le journal de la nuit</td>\n",
              "      <td>Weather</td>\n",
              "      <td>Information</td>\n",
              "      <td>canalF_la_chaine_meteo</td>\n",
              "      <td>1001</td>\n",
              "      <td>510</td>\n",
              "      <td>2021</td>\n",
              "      <td>8</td>\n",
              "      <td>9</td>\n",
              "      <td>20</td>\n",
              "      <td>...</td>\n",
              "      <td>0</td>\n",
              "      <td>7</td>\n",
              "      <td>8</td>\n",
              "      <td>20</td>\n",
              "      <td>1</td>\n",
              "      <td>0</td>\n",
              "      <td>2</td>\n",
              "      <td>0</td>\n",
              "      <td>0</td>\n",
              "      <td>3</td>\n",
              "    </tr>\n",
              "    <tr>\n",
              "      <th>1050034</th>\n",
              "      <td>Tagesschau</td>\n",
              "      <td>Magazine</td>\n",
              "      <td>Information</td>\n",
              "      <td>das_erste_de</td>\n",
              "      <td>1001</td>\n",
              "      <td>10</td>\n",
              "      <td>2022</td>\n",
              "      <td>5</td>\n",
              "      <td>24</td>\n",
              "      <td>13</td>\n",
              "      <td>...</td>\n",
              "      <td>1</td>\n",
              "      <td>4</td>\n",
              "      <td>23</td>\n",
              "      <td>13</td>\n",
              "      <td>2</td>\n",
              "      <td>0</td>\n",
              "      <td>1</td>\n",
              "      <td>0</td>\n",
              "      <td>0</td>\n",
              "      <td>3</td>\n",
              "    </tr>\n",
              "    <tr>\n",
              "      <th>1050035</th>\n",
              "      <td>Infomercial</td>\n",
              "      <td>Home Shopping</td>\n",
              "      <td>Information</td>\n",
              "      <td>tele-5</td>\n",
              "      <td>1001</td>\n",
              "      <td>15</td>\n",
              "      <td>2022</td>\n",
              "      <td>5</td>\n",
              "      <td>19</td>\n",
              "      <td>23</td>\n",
              "      <td>...</td>\n",
              "      <td>1</td>\n",
              "      <td>4</td>\n",
              "      <td>18</td>\n",
              "      <td>23</td>\n",
              "      <td>4</td>\n",
              "      <td>0</td>\n",
              "      <td>1</td>\n",
              "      <td>1</td>\n",
              "      <td>0</td>\n",
              "      <td>3</td>\n",
              "    </tr>\n",
              "    <tr>\n",
              "      <th>1050036</th>\n",
              "      <td>Mountain Men - Überleben in der Wildnis</td>\n",
              "      <td>Nature</td>\n",
              "      <td>Series</td>\n",
              "      <td>kabel1_doku</td>\n",
              "      <td>1001</td>\n",
              "      <td>40</td>\n",
              "      <td>2021</td>\n",
              "      <td>10</td>\n",
              "      <td>14</td>\n",
              "      <td>12</td>\n",
              "      <td>...</td>\n",
              "      <td>0</td>\n",
              "      <td>9</td>\n",
              "      <td>13</td>\n",
              "      <td>12</td>\n",
              "      <td>4</td>\n",
              "      <td>0</td>\n",
              "      <td>0</td>\n",
              "      <td>0</td>\n",
              "      <td>0</td>\n",
              "      <td>3</td>\n",
              "    </tr>\n",
              "    <tr>\n",
              "      <th>1050037</th>\n",
              "      <td>Porta a porta</td>\n",
              "      <td>Talk</td>\n",
              "      <td>Information</td>\n",
              "      <td>rai-uno</td>\n",
              "      <td>1001</td>\n",
              "      <td>15</td>\n",
              "      <td>2022</td>\n",
              "      <td>6</td>\n",
              "      <td>1</td>\n",
              "      <td>21</td>\n",
              "      <td>...</td>\n",
              "      <td>1</td>\n",
              "      <td>5</td>\n",
              "      <td>0</td>\n",
              "      <td>21</td>\n",
              "      <td>3</td>\n",
              "      <td>0</td>\n",
              "      <td>2</td>\n",
              "      <td>1</td>\n",
              "      <td>0</td>\n",
              "      <td>3</td>\n",
              "    </tr>\n",
              "  </tbody>\n",
              "</table>\n",
              "<p>923164 rows × 30 columns</p>\n",
              "</div>\n",
              "      <button class=\"colab-df-convert\" onclick=\"convertToInteractive('df-a8840b43-a4ec-447f-be1b-dfef7d7929a8')\"\n",
              "              title=\"Convert this dataframe to an interactive table.\"\n",
              "              style=\"display:none;\">\n",
              "        \n",
              "  <svg xmlns=\"http://www.w3.org/2000/svg\" height=\"24px\"viewBox=\"0 0 24 24\"\n",
              "       width=\"24px\">\n",
              "    <path d=\"M0 0h24v24H0V0z\" fill=\"none\"/>\n",
              "    <path d=\"M18.56 5.44l.94 2.06.94-2.06 2.06-.94-2.06-.94-.94-2.06-.94 2.06-2.06.94zm-11 1L8.5 8.5l.94-2.06 2.06-.94-2.06-.94L8.5 2.5l-.94 2.06-2.06.94zm10 10l.94 2.06.94-2.06 2.06-.94-2.06-.94-.94-2.06-.94 2.06-2.06.94z\"/><path d=\"M17.41 7.96l-1.37-1.37c-.4-.4-.92-.59-1.43-.59-.52 0-1.04.2-1.43.59L10.3 9.45l-7.72 7.72c-.78.78-.78 2.05 0 2.83L4 21.41c.39.39.9.59 1.41.59.51 0 1.02-.2 1.41-.59l7.78-7.78 2.81-2.81c.8-.78.8-2.07 0-2.86zM5.41 20L4 18.59l7.72-7.72 1.47 1.35L5.41 20z\"/>\n",
              "  </svg>\n",
              "      </button>\n",
              "      \n",
              "  <style>\n",
              "    .colab-df-container {\n",
              "      display:flex;\n",
              "      flex-wrap:wrap;\n",
              "      gap: 12px;\n",
              "    }\n",
              "\n",
              "    .colab-df-convert {\n",
              "      background-color: #E8F0FE;\n",
              "      border: none;\n",
              "      border-radius: 50%;\n",
              "      cursor: pointer;\n",
              "      display: none;\n",
              "      fill: #1967D2;\n",
              "      height: 32px;\n",
              "      padding: 0 0 0 0;\n",
              "      width: 32px;\n",
              "    }\n",
              "\n",
              "    .colab-df-convert:hover {\n",
              "      background-color: #E2EBFA;\n",
              "      box-shadow: 0px 1px 2px rgba(60, 64, 67, 0.3), 0px 1px 3px 1px rgba(60, 64, 67, 0.15);\n",
              "      fill: #174EA6;\n",
              "    }\n",
              "\n",
              "    [theme=dark] .colab-df-convert {\n",
              "      background-color: #3B4455;\n",
              "      fill: #D2E3FC;\n",
              "    }\n",
              "\n",
              "    [theme=dark] .colab-df-convert:hover {\n",
              "      background-color: #434B5C;\n",
              "      box-shadow: 0px 1px 3px 1px rgba(0, 0, 0, 0.15);\n",
              "      filter: drop-shadow(0px 1px 2px rgba(0, 0, 0, 0.3));\n",
              "      fill: #FFFFFF;\n",
              "    }\n",
              "  </style>\n",
              "\n",
              "      <script>\n",
              "        const buttonEl =\n",
              "          document.querySelector('#df-a8840b43-a4ec-447f-be1b-dfef7d7929a8 button.colab-df-convert');\n",
              "        buttonEl.style.display =\n",
              "          google.colab.kernel.accessAllowed ? 'block' : 'none';\n",
              "\n",
              "        async function convertToInteractive(key) {\n",
              "          const element = document.querySelector('#df-a8840b43-a4ec-447f-be1b-dfef7d7929a8');\n",
              "          const dataTable =\n",
              "            await google.colab.kernel.invokeFunction('convertToInteractive',\n",
              "                                                     [key], {});\n",
              "          if (!dataTable) return;\n",
              "\n",
              "          const docLinkHtml = 'Like what you see? Visit the ' +\n",
              "            '<a target=\"_blank\" href=https://colab.research.google.com/notebooks/data_table.ipynb>data table notebook</a>'\n",
              "            + ' to learn more about interactive tables.';\n",
              "          element.innerHTML = '';\n",
              "          dataTable['output_type'] = 'display_data';\n",
              "          await google.colab.output.renderOutput(dataTable, element);\n",
              "          const docLink = document.createElement('div');\n",
              "          docLink.innerHTML = docLinkHtml;\n",
              "          element.appendChild(docLink);\n",
              "        }\n",
              "      </script>\n",
              "    </div>\n",
              "  </div>\n",
              "  "
            ]
          },
          "metadata": {},
          "execution_count": 31
        }
      ]
    },
    {
      "cell_type": "code",
      "execution_count": null,
      "metadata": {
        "colab": {
          "base_uri": "https://localhost:8080/",
          "height": 421
        },
        "id": "WSj3jO3foorv",
        "outputId": "b7e5ea96-6751-4671-8c02-bd95776c9fe0"
      },
      "outputs": [
        {
          "output_type": "execute_result",
          "data": {
            "text/plain": [
              "                                                    title   genres  \\\n",
              "783323  Zu Gast im Süden Afrikas: Von Botswana bis Kap...   Nature   \n",
              "124501                     Ibiza - Ein Urlaub mit Folgen!   Humour   \n",
              "57600                                             Fußball    Sport   \n",
              "67967                                           Emmerdale  Reality   \n",
              "368222                                        Big Pacific   Nature   \n",
              "\n",
              "                 cats            meta_cname  total_users  duration  year  \\\n",
              "783323  Documentaries              br-alpha         1381        45  2021   \n",
              "124501         Movies          einsfestival         6489        80  2021   \n",
              "57600          Sports                   dsf        11115        60  2021   \n",
              "67967          Series  eir_virgin_media_one         9962        30  2022   \n",
              "368222  Documentaries              zdf-info         2797        45  2021   \n",
              "\n",
              "        month  days  hour  ...  year_encoded  month_encoded days_encoded  \\\n",
              "783323      8     8     9  ...             0              7            7   \n",
              "124501      9    18    21  ...             0              8           17   \n",
              "57600       7    24    17  ...             0              6           23   \n",
              "67967       6    14    18  ...             1              5           13   \n",
              "368222     10    17     9  ...             0              9           16   \n",
              "\n",
              "        hour_encoded week_day_encoded is_weekend_encoded  season_encoded  \\\n",
              "783323             9                0                  0               2   \n",
              "124501            21                6                  1               0   \n",
              "57600             17                6                  1               2   \n",
              "67967             18                2                  0               2   \n",
              "368222             9                0                  0               0   \n",
              "\n",
              "        prime_time_encoded  is_holiday_encoded  popularity_cat_encoded  \n",
              "783323                   0                   0                       3  \n",
              "124501                   1                   0                       0  \n",
              "57600                    0                   0                       1  \n",
              "67967                    0                   0                       1  \n",
              "368222                   0                   0                       0  \n",
              "\n",
              "[5 rows x 30 columns]"
            ],
            "text/html": [
              "\n",
              "  <div id=\"df-18fe2ba1-bd4c-4e81-99d1-90c1c4c4a056\">\n",
              "    <div class=\"colab-df-container\">\n",
              "      <div>\n",
              "<style scoped>\n",
              "    .dataframe tbody tr th:only-of-type {\n",
              "        vertical-align: middle;\n",
              "    }\n",
              "\n",
              "    .dataframe tbody tr th {\n",
              "        vertical-align: top;\n",
              "    }\n",
              "\n",
              "    .dataframe thead th {\n",
              "        text-align: right;\n",
              "    }\n",
              "</style>\n",
              "<table border=\"1\" class=\"dataframe\">\n",
              "  <thead>\n",
              "    <tr style=\"text-align: right;\">\n",
              "      <th></th>\n",
              "      <th>title</th>\n",
              "      <th>genres</th>\n",
              "      <th>cats</th>\n",
              "      <th>meta_cname</th>\n",
              "      <th>total_users</th>\n",
              "      <th>duration</th>\n",
              "      <th>year</th>\n",
              "      <th>month</th>\n",
              "      <th>days</th>\n",
              "      <th>hour</th>\n",
              "      <th>...</th>\n",
              "      <th>year_encoded</th>\n",
              "      <th>month_encoded</th>\n",
              "      <th>days_encoded</th>\n",
              "      <th>hour_encoded</th>\n",
              "      <th>week_day_encoded</th>\n",
              "      <th>is_weekend_encoded</th>\n",
              "      <th>season_encoded</th>\n",
              "      <th>prime_time_encoded</th>\n",
              "      <th>is_holiday_encoded</th>\n",
              "      <th>popularity_cat_encoded</th>\n",
              "    </tr>\n",
              "  </thead>\n",
              "  <tbody>\n",
              "    <tr>\n",
              "      <th>783323</th>\n",
              "      <td>Zu Gast im Süden Afrikas: Von Botswana bis Kap...</td>\n",
              "      <td>Nature</td>\n",
              "      <td>Documentaries</td>\n",
              "      <td>br-alpha</td>\n",
              "      <td>1381</td>\n",
              "      <td>45</td>\n",
              "      <td>2021</td>\n",
              "      <td>8</td>\n",
              "      <td>8</td>\n",
              "      <td>9</td>\n",
              "      <td>...</td>\n",
              "      <td>0</td>\n",
              "      <td>7</td>\n",
              "      <td>7</td>\n",
              "      <td>9</td>\n",
              "      <td>0</td>\n",
              "      <td>0</td>\n",
              "      <td>2</td>\n",
              "      <td>0</td>\n",
              "      <td>0</td>\n",
              "      <td>3</td>\n",
              "    </tr>\n",
              "    <tr>\n",
              "      <th>124501</th>\n",
              "      <td>Ibiza - Ein Urlaub mit Folgen!</td>\n",
              "      <td>Humour</td>\n",
              "      <td>Movies</td>\n",
              "      <td>einsfestival</td>\n",
              "      <td>6489</td>\n",
              "      <td>80</td>\n",
              "      <td>2021</td>\n",
              "      <td>9</td>\n",
              "      <td>18</td>\n",
              "      <td>21</td>\n",
              "      <td>...</td>\n",
              "      <td>0</td>\n",
              "      <td>8</td>\n",
              "      <td>17</td>\n",
              "      <td>21</td>\n",
              "      <td>6</td>\n",
              "      <td>1</td>\n",
              "      <td>0</td>\n",
              "      <td>1</td>\n",
              "      <td>0</td>\n",
              "      <td>0</td>\n",
              "    </tr>\n",
              "    <tr>\n",
              "      <th>57600</th>\n",
              "      <td>Fußball</td>\n",
              "      <td>Sport</td>\n",
              "      <td>Sports</td>\n",
              "      <td>dsf</td>\n",
              "      <td>11115</td>\n",
              "      <td>60</td>\n",
              "      <td>2021</td>\n",
              "      <td>7</td>\n",
              "      <td>24</td>\n",
              "      <td>17</td>\n",
              "      <td>...</td>\n",
              "      <td>0</td>\n",
              "      <td>6</td>\n",
              "      <td>23</td>\n",
              "      <td>17</td>\n",
              "      <td>6</td>\n",
              "      <td>1</td>\n",
              "      <td>2</td>\n",
              "      <td>0</td>\n",
              "      <td>0</td>\n",
              "      <td>1</td>\n",
              "    </tr>\n",
              "    <tr>\n",
              "      <th>67967</th>\n",
              "      <td>Emmerdale</td>\n",
              "      <td>Reality</td>\n",
              "      <td>Series</td>\n",
              "      <td>eir_virgin_media_one</td>\n",
              "      <td>9962</td>\n",
              "      <td>30</td>\n",
              "      <td>2022</td>\n",
              "      <td>6</td>\n",
              "      <td>14</td>\n",
              "      <td>18</td>\n",
              "      <td>...</td>\n",
              "      <td>1</td>\n",
              "      <td>5</td>\n",
              "      <td>13</td>\n",
              "      <td>18</td>\n",
              "      <td>2</td>\n",
              "      <td>0</td>\n",
              "      <td>2</td>\n",
              "      <td>0</td>\n",
              "      <td>0</td>\n",
              "      <td>1</td>\n",
              "    </tr>\n",
              "    <tr>\n",
              "      <th>368222</th>\n",
              "      <td>Big Pacific</td>\n",
              "      <td>Nature</td>\n",
              "      <td>Documentaries</td>\n",
              "      <td>zdf-info</td>\n",
              "      <td>2797</td>\n",
              "      <td>45</td>\n",
              "      <td>2021</td>\n",
              "      <td>10</td>\n",
              "      <td>17</td>\n",
              "      <td>9</td>\n",
              "      <td>...</td>\n",
              "      <td>0</td>\n",
              "      <td>9</td>\n",
              "      <td>16</td>\n",
              "      <td>9</td>\n",
              "      <td>0</td>\n",
              "      <td>0</td>\n",
              "      <td>0</td>\n",
              "      <td>0</td>\n",
              "      <td>0</td>\n",
              "      <td>0</td>\n",
              "    </tr>\n",
              "  </tbody>\n",
              "</table>\n",
              "<p>5 rows × 30 columns</p>\n",
              "</div>\n",
              "      <button class=\"colab-df-convert\" onclick=\"convertToInteractive('df-18fe2ba1-bd4c-4e81-99d1-90c1c4c4a056')\"\n",
              "              title=\"Convert this dataframe to an interactive table.\"\n",
              "              style=\"display:none;\">\n",
              "        \n",
              "  <svg xmlns=\"http://www.w3.org/2000/svg\" height=\"24px\"viewBox=\"0 0 24 24\"\n",
              "       width=\"24px\">\n",
              "    <path d=\"M0 0h24v24H0V0z\" fill=\"none\"/>\n",
              "    <path d=\"M18.56 5.44l.94 2.06.94-2.06 2.06-.94-2.06-.94-.94-2.06-.94 2.06-2.06.94zm-11 1L8.5 8.5l.94-2.06 2.06-.94-2.06-.94L8.5 2.5l-.94 2.06-2.06.94zm10 10l.94 2.06.94-2.06 2.06-.94-2.06-.94-.94-2.06-.94 2.06-2.06.94z\"/><path d=\"M17.41 7.96l-1.37-1.37c-.4-.4-.92-.59-1.43-.59-.52 0-1.04.2-1.43.59L10.3 9.45l-7.72 7.72c-.78.78-.78 2.05 0 2.83L4 21.41c.39.39.9.59 1.41.59.51 0 1.02-.2 1.41-.59l7.78-7.78 2.81-2.81c.8-.78.8-2.07 0-2.86zM5.41 20L4 18.59l7.72-7.72 1.47 1.35L5.41 20z\"/>\n",
              "  </svg>\n",
              "      </button>\n",
              "      \n",
              "  <style>\n",
              "    .colab-df-container {\n",
              "      display:flex;\n",
              "      flex-wrap:wrap;\n",
              "      gap: 12px;\n",
              "    }\n",
              "\n",
              "    .colab-df-convert {\n",
              "      background-color: #E8F0FE;\n",
              "      border: none;\n",
              "      border-radius: 50%;\n",
              "      cursor: pointer;\n",
              "      display: none;\n",
              "      fill: #1967D2;\n",
              "      height: 32px;\n",
              "      padding: 0 0 0 0;\n",
              "      width: 32px;\n",
              "    }\n",
              "\n",
              "    .colab-df-convert:hover {\n",
              "      background-color: #E2EBFA;\n",
              "      box-shadow: 0px 1px 2px rgba(60, 64, 67, 0.3), 0px 1px 3px 1px rgba(60, 64, 67, 0.15);\n",
              "      fill: #174EA6;\n",
              "    }\n",
              "\n",
              "    [theme=dark] .colab-df-convert {\n",
              "      background-color: #3B4455;\n",
              "      fill: #D2E3FC;\n",
              "    }\n",
              "\n",
              "    [theme=dark] .colab-df-convert:hover {\n",
              "      background-color: #434B5C;\n",
              "      box-shadow: 0px 1px 3px 1px rgba(0, 0, 0, 0.15);\n",
              "      filter: drop-shadow(0px 1px 2px rgba(0, 0, 0, 0.3));\n",
              "      fill: #FFFFFF;\n",
              "    }\n",
              "  </style>\n",
              "\n",
              "      <script>\n",
              "        const buttonEl =\n",
              "          document.querySelector('#df-18fe2ba1-bd4c-4e81-99d1-90c1c4c4a056 button.colab-df-convert');\n",
              "        buttonEl.style.display =\n",
              "          google.colab.kernel.accessAllowed ? 'block' : 'none';\n",
              "\n",
              "        async function convertToInteractive(key) {\n",
              "          const element = document.querySelector('#df-18fe2ba1-bd4c-4e81-99d1-90c1c4c4a056');\n",
              "          const dataTable =\n",
              "            await google.colab.kernel.invokeFunction('convertToInteractive',\n",
              "                                                     [key], {});\n",
              "          if (!dataTable) return;\n",
              "\n",
              "          const docLinkHtml = 'Like what you see? Visit the ' +\n",
              "            '<a target=\"_blank\" href=https://colab.research.google.com/notebooks/data_table.ipynb>data table notebook</a>'\n",
              "            + ' to learn more about interactive tables.';\n",
              "          element.innerHTML = '';\n",
              "          dataTable['output_type'] = 'display_data';\n",
              "          await google.colab.output.renderOutput(dataTable, element);\n",
              "          const docLink = document.createElement('div');\n",
              "          docLink.innerHTML = docLinkHtml;\n",
              "          element.appendChild(docLink);\n",
              "        }\n",
              "      </script>\n",
              "    </div>\n",
              "  </div>\n",
              "  "
            ]
          },
          "metadata": {},
          "execution_count": 32
        }
      ],
      "source": [
        "df.sample(5)"
      ]
    },
    {
      "cell_type": "code",
      "execution_count": null,
      "metadata": {
        "colab": {
          "base_uri": "https://localhost:8080/"
        },
        "id": "LjFOSF0xoz6X",
        "outputId": "06b9c86c-d175-41cf-eea8-60a05fd1f63b"
      },
      "outputs": [
        {
          "output_type": "execute_result",
          "data": {
            "text/plain": [
              "Index(['duration', 'title_encoded', 'genres_encoded', 'cats_encoded',\n",
              "       'meta_cname_encoded', 'year_encoded', 'month_encoded', 'days_encoded',\n",
              "       'hour_encoded', 'week_day_encoded', 'is_weekend_encoded',\n",
              "       'season_encoded', 'prime_time_encoded', 'is_holiday_encoded',\n",
              "       'popularity_cat_encoded'],\n",
              "      dtype='object')"
            ]
          },
          "metadata": {},
          "execution_count": 33
        }
      ],
      "source": [
        "# Slicing the dataset and keeping only encoded features\n",
        "\n",
        "df_ml = df.copy()\n",
        "\n",
        "encoded_columns = df_ml.columns.str.contains('encoded') \n",
        "duration = df_ml.columns.str.contains('duration')\n",
        "\n",
        "df_ml = df_ml.loc[:, encoded_columns + duration]\n",
        "\n",
        "df_ml.columns"
      ]
    },
    {
      "cell_type": "code",
      "execution_count": null,
      "metadata": {
        "id": "-ZoYGrntpGwn"
      },
      "outputs": [],
      "source": [
        "df_ml.to_csv('encoded_data.csv', index = False)"
      ]
    },
    {
      "cell_type": "markdown",
      "metadata": {
        "id": "T-1dtIWXjqpI"
      },
      "source": [
        "## Splitting data into test-train sets (keeping all the features)"
      ]
    },
    {
      "cell_type": "code",
      "source": [
        "df_ml = pd.read_csv('encoded_data.csv')"
      ],
      "metadata": {
        "id": "xuZQASw8oTKg"
      },
      "execution_count": null,
      "outputs": []
    },
    {
      "cell_type": "code",
      "execution_count": null,
      "metadata": {
        "colab": {
          "base_uri": "https://localhost:8080/",
          "height": 176
        },
        "id": "BxRXzT6Hjvtg",
        "outputId": "06cd0bfb-658d-4f80-f1d0-3f3a037f2809"
      },
      "outputs": [
        {
          "output_type": "execute_result",
          "data": {
            "text/plain": [
              "   duration  title_encoded  genres_encoded  cats_encoded  meta_cname_encoded  \\\n",
              "0       245          42178              41             1                 294   \n",
              "1       165           6297              33             2                  24   \n",
              "\n",
              "   year_encoded  month_encoded  days_encoded  hour_encoded  week_day_encoded  \\\n",
              "0             1              0            28            19                 6   \n",
              "1             0              8            25            15                 0   \n",
              "\n",
              "   is_weekend_encoded  season_encoded  prime_time_encoded  is_holiday_encoded  \\\n",
              "0                   1               3                   0                   0   \n",
              "1                   0               0                   0                   0   \n",
              "\n",
              "   popularity_cat_encoded  \n",
              "0                       2  \n",
              "1                       2  "
            ],
            "text/html": [
              "\n",
              "  <div id=\"df-4ee4511a-b561-45e1-acfd-7dde1d007bbc\">\n",
              "    <div class=\"colab-df-container\">\n",
              "      <div>\n",
              "<style scoped>\n",
              "    .dataframe tbody tr th:only-of-type {\n",
              "        vertical-align: middle;\n",
              "    }\n",
              "\n",
              "    .dataframe tbody tr th {\n",
              "        vertical-align: top;\n",
              "    }\n",
              "\n",
              "    .dataframe thead th {\n",
              "        text-align: right;\n",
              "    }\n",
              "</style>\n",
              "<table border=\"1\" class=\"dataframe\">\n",
              "  <thead>\n",
              "    <tr style=\"text-align: right;\">\n",
              "      <th></th>\n",
              "      <th>duration</th>\n",
              "      <th>title_encoded</th>\n",
              "      <th>genres_encoded</th>\n",
              "      <th>cats_encoded</th>\n",
              "      <th>meta_cname_encoded</th>\n",
              "      <th>year_encoded</th>\n",
              "      <th>month_encoded</th>\n",
              "      <th>days_encoded</th>\n",
              "      <th>hour_encoded</th>\n",
              "      <th>week_day_encoded</th>\n",
              "      <th>is_weekend_encoded</th>\n",
              "      <th>season_encoded</th>\n",
              "      <th>prime_time_encoded</th>\n",
              "      <th>is_holiday_encoded</th>\n",
              "      <th>popularity_cat_encoded</th>\n",
              "    </tr>\n",
              "  </thead>\n",
              "  <tbody>\n",
              "    <tr>\n",
              "      <th>0</th>\n",
              "      <td>245</td>\n",
              "      <td>42178</td>\n",
              "      <td>41</td>\n",
              "      <td>1</td>\n",
              "      <td>294</td>\n",
              "      <td>1</td>\n",
              "      <td>0</td>\n",
              "      <td>28</td>\n",
              "      <td>19</td>\n",
              "      <td>6</td>\n",
              "      <td>1</td>\n",
              "      <td>3</td>\n",
              "      <td>0</td>\n",
              "      <td>0</td>\n",
              "      <td>2</td>\n",
              "    </tr>\n",
              "    <tr>\n",
              "      <th>1</th>\n",
              "      <td>165</td>\n",
              "      <td>6297</td>\n",
              "      <td>33</td>\n",
              "      <td>2</td>\n",
              "      <td>24</td>\n",
              "      <td>0</td>\n",
              "      <td>8</td>\n",
              "      <td>25</td>\n",
              "      <td>15</td>\n",
              "      <td>0</td>\n",
              "      <td>0</td>\n",
              "      <td>0</td>\n",
              "      <td>0</td>\n",
              "      <td>0</td>\n",
              "      <td>2</td>\n",
              "    </tr>\n",
              "  </tbody>\n",
              "</table>\n",
              "</div>\n",
              "      <button class=\"colab-df-convert\" onclick=\"convertToInteractive('df-4ee4511a-b561-45e1-acfd-7dde1d007bbc')\"\n",
              "              title=\"Convert this dataframe to an interactive table.\"\n",
              "              style=\"display:none;\">\n",
              "        \n",
              "  <svg xmlns=\"http://www.w3.org/2000/svg\" height=\"24px\"viewBox=\"0 0 24 24\"\n",
              "       width=\"24px\">\n",
              "    <path d=\"M0 0h24v24H0V0z\" fill=\"none\"/>\n",
              "    <path d=\"M18.56 5.44l.94 2.06.94-2.06 2.06-.94-2.06-.94-.94-2.06-.94 2.06-2.06.94zm-11 1L8.5 8.5l.94-2.06 2.06-.94-2.06-.94L8.5 2.5l-.94 2.06-2.06.94zm10 10l.94 2.06.94-2.06 2.06-.94-2.06-.94-.94-2.06-.94 2.06-2.06.94z\"/><path d=\"M17.41 7.96l-1.37-1.37c-.4-.4-.92-.59-1.43-.59-.52 0-1.04.2-1.43.59L10.3 9.45l-7.72 7.72c-.78.78-.78 2.05 0 2.83L4 21.41c.39.39.9.59 1.41.59.51 0 1.02-.2 1.41-.59l7.78-7.78 2.81-2.81c.8-.78.8-2.07 0-2.86zM5.41 20L4 18.59l7.72-7.72 1.47 1.35L5.41 20z\"/>\n",
              "  </svg>\n",
              "      </button>\n",
              "      \n",
              "  <style>\n",
              "    .colab-df-container {\n",
              "      display:flex;\n",
              "      flex-wrap:wrap;\n",
              "      gap: 12px;\n",
              "    }\n",
              "\n",
              "    .colab-df-convert {\n",
              "      background-color: #E8F0FE;\n",
              "      border: none;\n",
              "      border-radius: 50%;\n",
              "      cursor: pointer;\n",
              "      display: none;\n",
              "      fill: #1967D2;\n",
              "      height: 32px;\n",
              "      padding: 0 0 0 0;\n",
              "      width: 32px;\n",
              "    }\n",
              "\n",
              "    .colab-df-convert:hover {\n",
              "      background-color: #E2EBFA;\n",
              "      box-shadow: 0px 1px 2px rgba(60, 64, 67, 0.3), 0px 1px 3px 1px rgba(60, 64, 67, 0.15);\n",
              "      fill: #174EA6;\n",
              "    }\n",
              "\n",
              "    [theme=dark] .colab-df-convert {\n",
              "      background-color: #3B4455;\n",
              "      fill: #D2E3FC;\n",
              "    }\n",
              "\n",
              "    [theme=dark] .colab-df-convert:hover {\n",
              "      background-color: #434B5C;\n",
              "      box-shadow: 0px 1px 3px 1px rgba(0, 0, 0, 0.15);\n",
              "      filter: drop-shadow(0px 1px 2px rgba(0, 0, 0, 0.3));\n",
              "      fill: #FFFFFF;\n",
              "    }\n",
              "  </style>\n",
              "\n",
              "      <script>\n",
              "        const buttonEl =\n",
              "          document.querySelector('#df-4ee4511a-b561-45e1-acfd-7dde1d007bbc button.colab-df-convert');\n",
              "        buttonEl.style.display =\n",
              "          google.colab.kernel.accessAllowed ? 'block' : 'none';\n",
              "\n",
              "        async function convertToInteractive(key) {\n",
              "          const element = document.querySelector('#df-4ee4511a-b561-45e1-acfd-7dde1d007bbc');\n",
              "          const dataTable =\n",
              "            await google.colab.kernel.invokeFunction('convertToInteractive',\n",
              "                                                     [key], {});\n",
              "          if (!dataTable) return;\n",
              "\n",
              "          const docLinkHtml = 'Like what you see? Visit the ' +\n",
              "            '<a target=\"_blank\" href=https://colab.research.google.com/notebooks/data_table.ipynb>data table notebook</a>'\n",
              "            + ' to learn more about interactive tables.';\n",
              "          element.innerHTML = '';\n",
              "          dataTable['output_type'] = 'display_data';\n",
              "          await google.colab.output.renderOutput(dataTable, element);\n",
              "          const docLink = document.createElement('div');\n",
              "          docLink.innerHTML = docLinkHtml;\n",
              "          element.appendChild(docLink);\n",
              "        }\n",
              "      </script>\n",
              "    </div>\n",
              "  </div>\n",
              "  "
            ]
          },
          "metadata": {},
          "execution_count": 36
        }
      ],
      "source": [
        "df_ml.head(2)"
      ]
    },
    {
      "cell_type": "code",
      "execution_count": null,
      "metadata": {
        "id": "qrfs55N2j5c2"
      },
      "outputs": [],
      "source": [
        "from sklearn.model_selection import train_test_split\n",
        "\n",
        "X = df_ml.iloc[:, 0:14]\n",
        "y = df_ml.iloc[:, 14]\n",
        "\n",
        "X_train, X_test, y_train, y_test = train_test_split(X, y, test_size=0.2, random_state=42)"
      ]
    },
    {
      "cell_type": "code",
      "source": [
        ""
      ],
      "metadata": {
        "id": "LDuGlU5zbpdw"
      },
      "execution_count": null,
      "outputs": []
    },
    {
      "cell_type": "markdown",
      "metadata": {
        "id": "N61qcYx4rDSq"
      },
      "source": [
        "## Model Implementation"
      ]
    },
    {
      "cell_type": "markdown",
      "metadata": {
        "id": "JWEL_4tgjYyX"
      },
      "source": [
        ""
      ]
    },
    {
      "cell_type": "code",
      "execution_count": null,
      "metadata": {
        "id": "AqtzvKZRsCsW"
      },
      "outputs": [],
      "source": [
        "from sklearn.metrics import accuracy_score, precision_score, recall_score, f1_score, roc_auc_score, roc_curve, auc"
      ]
    },
    {
      "cell_type": "markdown",
      "metadata": {
        "id": "mLHvADwKrHR2"
      },
      "source": [
        "##### Decision Tree"
      ]
    },
    {
      "cell_type": "markdown",
      "metadata": {
        "id": "fVXR9KScj-9y"
      },
      "source": [
        "###### Feature importance showed us that the below mentioned features are not important for decision tree: \"season_encoded\", \"year_encoded\", \"is_weekend_encoded\", \"prime_time_encoded\", \"is_holiday_encoded\". However, removing them didn't improve the results, on the opposite resulted in a lower score. Therefore the main test split is used for this model: X_train, X_test, y_train, y_test"
      ]
    },
    {
      "cell_type": "code",
      "execution_count": null,
      "metadata": {
        "colab": {
          "base_uri": "https://localhost:8080/"
        },
        "id": "R6chH87xrGPM",
        "outputId": "087eaa81-2f1d-49f8-9948-3ef836086f15"
      },
      "outputs": [
        {
          "output_type": "execute_result",
          "data": {
            "text/plain": [
              "DecisionTreeClassifier(criterion='entropy')"
            ]
          },
          "metadata": {},
          "execution_count": 39
        }
      ],
      "source": [
        "from sklearn import tree\n",
        "\n",
        "model_DT = tree.DecisionTreeClassifier(criterion=\"entropy\")\n",
        "model_DT.fit(X_train, y_train)"
      ]
    },
    {
      "cell_type": "code",
      "execution_count": null,
      "metadata": {
        "id": "ZOag-x8qrRma"
      },
      "outputs": [],
      "source": [
        "DT_prediction = model_DT.predict(X_test)"
      ]
    },
    {
      "cell_type": "code",
      "execution_count": null,
      "metadata": {
        "colab": {
          "base_uri": "https://localhost:8080/"
        },
        "id": "-8KpbqR_rUc_",
        "outputId": "65e6ffc6-7255-4a18-9cbd-46071193d203"
      },
      "outputs": [
        {
          "output_type": "execute_result",
          "data": {
            "text/plain": [
              "0.8106459841956747"
            ]
          },
          "metadata": {},
          "execution_count": 41
        }
      ],
      "source": [
        "accuracy_score(y_test, DT_prediction)"
      ]
    },
    {
      "cell_type": "code",
      "execution_count": null,
      "metadata": {
        "colab": {
          "base_uri": "https://localhost:8080/"
        },
        "id": "UAa2kuZfsTSw",
        "outputId": "3012a855-faa4-4456-a025-bd8877d50a40"
      },
      "outputs": [
        {
          "output_type": "execute_result",
          "data": {
            "text/plain": [
              "0.8111187154382495"
            ]
          },
          "metadata": {},
          "execution_count": 42
        }
      ],
      "source": [
        "precision_score(y_test, DT_prediction, average='weighted')"
      ]
    },
    {
      "cell_type": "code",
      "execution_count": null,
      "metadata": {
        "colab": {
          "base_uri": "https://localhost:8080/"
        },
        "id": "_oMMnSATs9kJ",
        "outputId": "ccff5630-4292-4491-8561-64edb98116e1"
      },
      "outputs": [
        {
          "output_type": "execute_result",
          "data": {
            "text/plain": [
              "0.8106459841956747"
            ]
          },
          "metadata": {},
          "execution_count": 43
        }
      ],
      "source": [
        "recall_score(y_test, DT_prediction, average='weighted')"
      ]
    },
    {
      "cell_type": "code",
      "execution_count": null,
      "metadata": {
        "colab": {
          "base_uri": "https://localhost:8080/"
        },
        "id": "oth9ftQBtBUR",
        "outputId": "8c792312-caa0-4946-862c-e28b285abdb5"
      },
      "outputs": [
        {
          "output_type": "execute_result",
          "data": {
            "text/plain": [
              "0.8108225346768012"
            ]
          },
          "metadata": {},
          "execution_count": 44
        }
      ],
      "source": [
        "f1_score(y_test, DT_prediction, average='weighted')"
      ]
    },
    {
      "cell_type": "code",
      "execution_count": null,
      "metadata": {
        "colab": {
          "base_uri": "https://localhost:8080/"
        },
        "id": "K8UBI_LUwMQ5",
        "outputId": "c707c86e-86f3-498f-b9ef-caa5cdb3643b"
      },
      "outputs": [
        {
          "output_type": "execute_result",
          "data": {
            "text/plain": [
              "0.8445918541801853"
            ]
          },
          "metadata": {},
          "execution_count": 45
        }
      ],
      "source": [
        "fpr, tpr, thresholds = roc_curve(y_test, DT_prediction, pos_label=3)\n",
        "auc(fpr, tpr)"
      ]
    },
    {
      "cell_type": "markdown",
      "metadata": {
        "id": "4n3Y24ZQw42E"
      },
      "source": [
        "##### Random Forest"
      ]
    },
    {
      "cell_type": "markdown",
      "metadata": {
        "id": "jBfs_9Orlrtb"
      },
      "source": [
        "###### In RF, removing non-important features increase the results, therefore they will be removed and a new splits will be used. X_train_RF, X_test_RF, y_train_RF, t_test_RF."
      ]
    },
    {
      "cell_type": "code",
      "execution_count": null,
      "metadata": {
        "colab": {
          "base_uri": "https://localhost:8080/",
          "height": 488
        },
        "id": "dY0M68gll78m",
        "outputId": "43e8c6fb-d875-4ce5-97eb-b06edc77a165"
      },
      "outputs": [
        {
          "output_type": "execute_result",
          "data": {
            "text/plain": [
              "        duration  title_encoded  genres_encoded  cats_encoded  \\\n",
              "0            245          42178              41             1   \n",
              "1            165           6297              33             2   \n",
              "2            240          42178              41             1   \n",
              "3            245          42178              41             1   \n",
              "4            180          52843              41             1   \n",
              "...          ...            ...             ...           ...   \n",
              "923159       510          29430              50             2   \n",
              "923160        10          45731              28             2   \n",
              "923161        15          23939              24             2   \n",
              "923162        40          35030              32             5   \n",
              "923163        15          38670              45             2   \n",
              "\n",
              "        meta_cname_encoded  year_encoded  month_encoded  days_encoded  \\\n",
              "0                      294             1              0            28   \n",
              "1                       24             0              8            25   \n",
              "2                      294             0             10            26   \n",
              "3                      294             0             11            17   \n",
              "4                      457             0             10             5   \n",
              "...                    ...           ...            ...           ...   \n",
              "923159                  58             0              7             8   \n",
              "923160                  95             1              4            23   \n",
              "923161                 394             1              4            18   \n",
              "923162                 217             0              9            13   \n",
              "923163                 307             1              5             0   \n",
              "\n",
              "        hour_encoded  week_day_encoded  is_weekend_encoded  season_encoded  \\\n",
              "0                 19                 6                   1               3   \n",
              "1                 15                 0                   0               0   \n",
              "2                 19                 6                   1               0   \n",
              "3                 19                 6                   1               3   \n",
              "4                 19                 6                   1               0   \n",
              "...              ...               ...                 ...             ...   \n",
              "923159            20                 1                   0               2   \n",
              "923160            13                 2                   0               1   \n",
              "923161            23                 4                   0               1   \n",
              "923162            12                 4                   0               0   \n",
              "923163            21                 3                   0               2   \n",
              "\n",
              "        prime_time_encoded  is_holiday_encoded  popularity_cat_encoded  \n",
              "0                        0                   0                       2  \n",
              "1                        0                   0                       2  \n",
              "2                        0                   0                       2  \n",
              "3                        0                   0                       2  \n",
              "4                        0                   0                       2  \n",
              "...                    ...                 ...                     ...  \n",
              "923159                   0                   0                       3  \n",
              "923160                   0                   0                       3  \n",
              "923161                   1                   0                       3  \n",
              "923162                   0                   0                       3  \n",
              "923163                   1                   0                       3  \n",
              "\n",
              "[923164 rows x 15 columns]"
            ],
            "text/html": [
              "\n",
              "  <div id=\"df-8bebb4f4-32f3-4152-967f-dedd21a6cbc8\">\n",
              "    <div class=\"colab-df-container\">\n",
              "      <div>\n",
              "<style scoped>\n",
              "    .dataframe tbody tr th:only-of-type {\n",
              "        vertical-align: middle;\n",
              "    }\n",
              "\n",
              "    .dataframe tbody tr th {\n",
              "        vertical-align: top;\n",
              "    }\n",
              "\n",
              "    .dataframe thead th {\n",
              "        text-align: right;\n",
              "    }\n",
              "</style>\n",
              "<table border=\"1\" class=\"dataframe\">\n",
              "  <thead>\n",
              "    <tr style=\"text-align: right;\">\n",
              "      <th></th>\n",
              "      <th>duration</th>\n",
              "      <th>title_encoded</th>\n",
              "      <th>genres_encoded</th>\n",
              "      <th>cats_encoded</th>\n",
              "      <th>meta_cname_encoded</th>\n",
              "      <th>year_encoded</th>\n",
              "      <th>month_encoded</th>\n",
              "      <th>days_encoded</th>\n",
              "      <th>hour_encoded</th>\n",
              "      <th>week_day_encoded</th>\n",
              "      <th>is_weekend_encoded</th>\n",
              "      <th>season_encoded</th>\n",
              "      <th>prime_time_encoded</th>\n",
              "      <th>is_holiday_encoded</th>\n",
              "      <th>popularity_cat_encoded</th>\n",
              "    </tr>\n",
              "  </thead>\n",
              "  <tbody>\n",
              "    <tr>\n",
              "      <th>0</th>\n",
              "      <td>245</td>\n",
              "      <td>42178</td>\n",
              "      <td>41</td>\n",
              "      <td>1</td>\n",
              "      <td>294</td>\n",
              "      <td>1</td>\n",
              "      <td>0</td>\n",
              "      <td>28</td>\n",
              "      <td>19</td>\n",
              "      <td>6</td>\n",
              "      <td>1</td>\n",
              "      <td>3</td>\n",
              "      <td>0</td>\n",
              "      <td>0</td>\n",
              "      <td>2</td>\n",
              "    </tr>\n",
              "    <tr>\n",
              "      <th>1</th>\n",
              "      <td>165</td>\n",
              "      <td>6297</td>\n",
              "      <td>33</td>\n",
              "      <td>2</td>\n",
              "      <td>24</td>\n",
              "      <td>0</td>\n",
              "      <td>8</td>\n",
              "      <td>25</td>\n",
              "      <td>15</td>\n",
              "      <td>0</td>\n",
              "      <td>0</td>\n",
              "      <td>0</td>\n",
              "      <td>0</td>\n",
              "      <td>0</td>\n",
              "      <td>2</td>\n",
              "    </tr>\n",
              "    <tr>\n",
              "      <th>2</th>\n",
              "      <td>240</td>\n",
              "      <td>42178</td>\n",
              "      <td>41</td>\n",
              "      <td>1</td>\n",
              "      <td>294</td>\n",
              "      <td>0</td>\n",
              "      <td>10</td>\n",
              "      <td>26</td>\n",
              "      <td>19</td>\n",
              "      <td>6</td>\n",
              "      <td>1</td>\n",
              "      <td>0</td>\n",
              "      <td>0</td>\n",
              "      <td>0</td>\n",
              "      <td>2</td>\n",
              "    </tr>\n",
              "    <tr>\n",
              "      <th>3</th>\n",
              "      <td>245</td>\n",
              "      <td>42178</td>\n",
              "      <td>41</td>\n",
              "      <td>1</td>\n",
              "      <td>294</td>\n",
              "      <td>0</td>\n",
              "      <td>11</td>\n",
              "      <td>17</td>\n",
              "      <td>19</td>\n",
              "      <td>6</td>\n",
              "      <td>1</td>\n",
              "      <td>3</td>\n",
              "      <td>0</td>\n",
              "      <td>0</td>\n",
              "      <td>2</td>\n",
              "    </tr>\n",
              "    <tr>\n",
              "      <th>4</th>\n",
              "      <td>180</td>\n",
              "      <td>52843</td>\n",
              "      <td>41</td>\n",
              "      <td>1</td>\n",
              "      <td>457</td>\n",
              "      <td>0</td>\n",
              "      <td>10</td>\n",
              "      <td>5</td>\n",
              "      <td>19</td>\n",
              "      <td>6</td>\n",
              "      <td>1</td>\n",
              "      <td>0</td>\n",
              "      <td>0</td>\n",
              "      <td>0</td>\n",
              "      <td>2</td>\n",
              "    </tr>\n",
              "    <tr>\n",
              "      <th>...</th>\n",
              "      <td>...</td>\n",
              "      <td>...</td>\n",
              "      <td>...</td>\n",
              "      <td>...</td>\n",
              "      <td>...</td>\n",
              "      <td>...</td>\n",
              "      <td>...</td>\n",
              "      <td>...</td>\n",
              "      <td>...</td>\n",
              "      <td>...</td>\n",
              "      <td>...</td>\n",
              "      <td>...</td>\n",
              "      <td>...</td>\n",
              "      <td>...</td>\n",
              "      <td>...</td>\n",
              "    </tr>\n",
              "    <tr>\n",
              "      <th>923159</th>\n",
              "      <td>510</td>\n",
              "      <td>29430</td>\n",
              "      <td>50</td>\n",
              "      <td>2</td>\n",
              "      <td>58</td>\n",
              "      <td>0</td>\n",
              "      <td>7</td>\n",
              "      <td>8</td>\n",
              "      <td>20</td>\n",
              "      <td>1</td>\n",
              "      <td>0</td>\n",
              "      <td>2</td>\n",
              "      <td>0</td>\n",
              "      <td>0</td>\n",
              "      <td>3</td>\n",
              "    </tr>\n",
              "    <tr>\n",
              "      <th>923160</th>\n",
              "      <td>10</td>\n",
              "      <td>45731</td>\n",
              "      <td>28</td>\n",
              "      <td>2</td>\n",
              "      <td>95</td>\n",
              "      <td>1</td>\n",
              "      <td>4</td>\n",
              "      <td>23</td>\n",
              "      <td>13</td>\n",
              "      <td>2</td>\n",
              "      <td>0</td>\n",
              "      <td>1</td>\n",
              "      <td>0</td>\n",
              "      <td>0</td>\n",
              "      <td>3</td>\n",
              "    </tr>\n",
              "    <tr>\n",
              "      <th>923161</th>\n",
              "      <td>15</td>\n",
              "      <td>23939</td>\n",
              "      <td>24</td>\n",
              "      <td>2</td>\n",
              "      <td>394</td>\n",
              "      <td>1</td>\n",
              "      <td>4</td>\n",
              "      <td>18</td>\n",
              "      <td>23</td>\n",
              "      <td>4</td>\n",
              "      <td>0</td>\n",
              "      <td>1</td>\n",
              "      <td>1</td>\n",
              "      <td>0</td>\n",
              "      <td>3</td>\n",
              "    </tr>\n",
              "    <tr>\n",
              "      <th>923162</th>\n",
              "      <td>40</td>\n",
              "      <td>35030</td>\n",
              "      <td>32</td>\n",
              "      <td>5</td>\n",
              "      <td>217</td>\n",
              "      <td>0</td>\n",
              "      <td>9</td>\n",
              "      <td>13</td>\n",
              "      <td>12</td>\n",
              "      <td>4</td>\n",
              "      <td>0</td>\n",
              "      <td>0</td>\n",
              "      <td>0</td>\n",
              "      <td>0</td>\n",
              "      <td>3</td>\n",
              "    </tr>\n",
              "    <tr>\n",
              "      <th>923163</th>\n",
              "      <td>15</td>\n",
              "      <td>38670</td>\n",
              "      <td>45</td>\n",
              "      <td>2</td>\n",
              "      <td>307</td>\n",
              "      <td>1</td>\n",
              "      <td>5</td>\n",
              "      <td>0</td>\n",
              "      <td>21</td>\n",
              "      <td>3</td>\n",
              "      <td>0</td>\n",
              "      <td>2</td>\n",
              "      <td>1</td>\n",
              "      <td>0</td>\n",
              "      <td>3</td>\n",
              "    </tr>\n",
              "  </tbody>\n",
              "</table>\n",
              "<p>923164 rows × 15 columns</p>\n",
              "</div>\n",
              "      <button class=\"colab-df-convert\" onclick=\"convertToInteractive('df-8bebb4f4-32f3-4152-967f-dedd21a6cbc8')\"\n",
              "              title=\"Convert this dataframe to an interactive table.\"\n",
              "              style=\"display:none;\">\n",
              "        \n",
              "  <svg xmlns=\"http://www.w3.org/2000/svg\" height=\"24px\"viewBox=\"0 0 24 24\"\n",
              "       width=\"24px\">\n",
              "    <path d=\"M0 0h24v24H0V0z\" fill=\"none\"/>\n",
              "    <path d=\"M18.56 5.44l.94 2.06.94-2.06 2.06-.94-2.06-.94-.94-2.06-.94 2.06-2.06.94zm-11 1L8.5 8.5l.94-2.06 2.06-.94-2.06-.94L8.5 2.5l-.94 2.06-2.06.94zm10 10l.94 2.06.94-2.06 2.06-.94-2.06-.94-.94-2.06-.94 2.06-2.06.94z\"/><path d=\"M17.41 7.96l-1.37-1.37c-.4-.4-.92-.59-1.43-.59-.52 0-1.04.2-1.43.59L10.3 9.45l-7.72 7.72c-.78.78-.78 2.05 0 2.83L4 21.41c.39.39.9.59 1.41.59.51 0 1.02-.2 1.41-.59l7.78-7.78 2.81-2.81c.8-.78.8-2.07 0-2.86zM5.41 20L4 18.59l7.72-7.72 1.47 1.35L5.41 20z\"/>\n",
              "  </svg>\n",
              "      </button>\n",
              "      \n",
              "  <style>\n",
              "    .colab-df-container {\n",
              "      display:flex;\n",
              "      flex-wrap:wrap;\n",
              "      gap: 12px;\n",
              "    }\n",
              "\n",
              "    .colab-df-convert {\n",
              "      background-color: #E8F0FE;\n",
              "      border: none;\n",
              "      border-radius: 50%;\n",
              "      cursor: pointer;\n",
              "      display: none;\n",
              "      fill: #1967D2;\n",
              "      height: 32px;\n",
              "      padding: 0 0 0 0;\n",
              "      width: 32px;\n",
              "    }\n",
              "\n",
              "    .colab-df-convert:hover {\n",
              "      background-color: #E2EBFA;\n",
              "      box-shadow: 0px 1px 2px rgba(60, 64, 67, 0.3), 0px 1px 3px 1px rgba(60, 64, 67, 0.15);\n",
              "      fill: #174EA6;\n",
              "    }\n",
              "\n",
              "    [theme=dark] .colab-df-convert {\n",
              "      background-color: #3B4455;\n",
              "      fill: #D2E3FC;\n",
              "    }\n",
              "\n",
              "    [theme=dark] .colab-df-convert:hover {\n",
              "      background-color: #434B5C;\n",
              "      box-shadow: 0px 1px 3px 1px rgba(0, 0, 0, 0.15);\n",
              "      filter: drop-shadow(0px 1px 2px rgba(0, 0, 0, 0.3));\n",
              "      fill: #FFFFFF;\n",
              "    }\n",
              "  </style>\n",
              "\n",
              "      <script>\n",
              "        const buttonEl =\n",
              "          document.querySelector('#df-8bebb4f4-32f3-4152-967f-dedd21a6cbc8 button.colab-df-convert');\n",
              "        buttonEl.style.display =\n",
              "          google.colab.kernel.accessAllowed ? 'block' : 'none';\n",
              "\n",
              "        async function convertToInteractive(key) {\n",
              "          const element = document.querySelector('#df-8bebb4f4-32f3-4152-967f-dedd21a6cbc8');\n",
              "          const dataTable =\n",
              "            await google.colab.kernel.invokeFunction('convertToInteractive',\n",
              "                                                     [key], {});\n",
              "          if (!dataTable) return;\n",
              "\n",
              "          const docLinkHtml = 'Like what you see? Visit the ' +\n",
              "            '<a target=\"_blank\" href=https://colab.research.google.com/notebooks/data_table.ipynb>data table notebook</a>'\n",
              "            + ' to learn more about interactive tables.';\n",
              "          element.innerHTML = '';\n",
              "          dataTable['output_type'] = 'display_data';\n",
              "          await google.colab.output.renderOutput(dataTable, element);\n",
              "          const docLink = document.createElement('div');\n",
              "          docLink.innerHTML = docLinkHtml;\n",
              "          element.appendChild(docLink);\n",
              "        }\n",
              "      </script>\n",
              "    </div>\n",
              "  </div>\n",
              "  "
            ]
          },
          "metadata": {},
          "execution_count": 46
        }
      ],
      "source": [
        "import pandas as pd\n",
        "\n",
        "RF_df_ml = pd.read_csv('encoded_data.csv')\n",
        "\n",
        "RF_df_ml "
      ]
    },
    {
      "cell_type": "code",
      "execution_count": null,
      "metadata": {
        "colab": {
          "base_uri": "https://localhost:8080/",
          "height": 424
        },
        "id": "hxKLYL0AmFjt",
        "outputId": "a980f4f1-39b1-400d-a773-a0d21767dbd9"
      },
      "outputs": [
        {
          "output_type": "execute_result",
          "data": {
            "text/plain": [
              "        duration  title_encoded  genres_encoded  cats_encoded  \\\n",
              "0            245          42178              41             1   \n",
              "1            165           6297              33             2   \n",
              "2            240          42178              41             1   \n",
              "3            245          42178              41             1   \n",
              "4            180          52843              41             1   \n",
              "...          ...            ...             ...           ...   \n",
              "923159       510          29430              50             2   \n",
              "923160        10          45731              28             2   \n",
              "923161        15          23939              24             2   \n",
              "923162        40          35030              32             5   \n",
              "923163        15          38670              45             2   \n",
              "\n",
              "        meta_cname_encoded  month_encoded  days_encoded  hour_encoded  \\\n",
              "0                      294              0            28            19   \n",
              "1                       24              8            25            15   \n",
              "2                      294             10            26            19   \n",
              "3                      294             11            17            19   \n",
              "4                      457             10             5            19   \n",
              "...                    ...            ...           ...           ...   \n",
              "923159                  58              7             8            20   \n",
              "923160                  95              4            23            13   \n",
              "923161                 394              4            18            23   \n",
              "923162                 217              9            13            12   \n",
              "923163                 307              5             0            21   \n",
              "\n",
              "        week_day_encoded  popularity_cat_encoded  \n",
              "0                      6                       2  \n",
              "1                      0                       2  \n",
              "2                      6                       2  \n",
              "3                      6                       2  \n",
              "4                      6                       2  \n",
              "...                  ...                     ...  \n",
              "923159                 1                       3  \n",
              "923160                 2                       3  \n",
              "923161                 4                       3  \n",
              "923162                 4                       3  \n",
              "923163                 3                       3  \n",
              "\n",
              "[923164 rows x 10 columns]"
            ],
            "text/html": [
              "\n",
              "  <div id=\"df-ce069e7b-39bb-4e9f-88f2-00a5e85e7819\">\n",
              "    <div class=\"colab-df-container\">\n",
              "      <div>\n",
              "<style scoped>\n",
              "    .dataframe tbody tr th:only-of-type {\n",
              "        vertical-align: middle;\n",
              "    }\n",
              "\n",
              "    .dataframe tbody tr th {\n",
              "        vertical-align: top;\n",
              "    }\n",
              "\n",
              "    .dataframe thead th {\n",
              "        text-align: right;\n",
              "    }\n",
              "</style>\n",
              "<table border=\"1\" class=\"dataframe\">\n",
              "  <thead>\n",
              "    <tr style=\"text-align: right;\">\n",
              "      <th></th>\n",
              "      <th>duration</th>\n",
              "      <th>title_encoded</th>\n",
              "      <th>genres_encoded</th>\n",
              "      <th>cats_encoded</th>\n",
              "      <th>meta_cname_encoded</th>\n",
              "      <th>month_encoded</th>\n",
              "      <th>days_encoded</th>\n",
              "      <th>hour_encoded</th>\n",
              "      <th>week_day_encoded</th>\n",
              "      <th>popularity_cat_encoded</th>\n",
              "    </tr>\n",
              "  </thead>\n",
              "  <tbody>\n",
              "    <tr>\n",
              "      <th>0</th>\n",
              "      <td>245</td>\n",
              "      <td>42178</td>\n",
              "      <td>41</td>\n",
              "      <td>1</td>\n",
              "      <td>294</td>\n",
              "      <td>0</td>\n",
              "      <td>28</td>\n",
              "      <td>19</td>\n",
              "      <td>6</td>\n",
              "      <td>2</td>\n",
              "    </tr>\n",
              "    <tr>\n",
              "      <th>1</th>\n",
              "      <td>165</td>\n",
              "      <td>6297</td>\n",
              "      <td>33</td>\n",
              "      <td>2</td>\n",
              "      <td>24</td>\n",
              "      <td>8</td>\n",
              "      <td>25</td>\n",
              "      <td>15</td>\n",
              "      <td>0</td>\n",
              "      <td>2</td>\n",
              "    </tr>\n",
              "    <tr>\n",
              "      <th>2</th>\n",
              "      <td>240</td>\n",
              "      <td>42178</td>\n",
              "      <td>41</td>\n",
              "      <td>1</td>\n",
              "      <td>294</td>\n",
              "      <td>10</td>\n",
              "      <td>26</td>\n",
              "      <td>19</td>\n",
              "      <td>6</td>\n",
              "      <td>2</td>\n",
              "    </tr>\n",
              "    <tr>\n",
              "      <th>3</th>\n",
              "      <td>245</td>\n",
              "      <td>42178</td>\n",
              "      <td>41</td>\n",
              "      <td>1</td>\n",
              "      <td>294</td>\n",
              "      <td>11</td>\n",
              "      <td>17</td>\n",
              "      <td>19</td>\n",
              "      <td>6</td>\n",
              "      <td>2</td>\n",
              "    </tr>\n",
              "    <tr>\n",
              "      <th>4</th>\n",
              "      <td>180</td>\n",
              "      <td>52843</td>\n",
              "      <td>41</td>\n",
              "      <td>1</td>\n",
              "      <td>457</td>\n",
              "      <td>10</td>\n",
              "      <td>5</td>\n",
              "      <td>19</td>\n",
              "      <td>6</td>\n",
              "      <td>2</td>\n",
              "    </tr>\n",
              "    <tr>\n",
              "      <th>...</th>\n",
              "      <td>...</td>\n",
              "      <td>...</td>\n",
              "      <td>...</td>\n",
              "      <td>...</td>\n",
              "      <td>...</td>\n",
              "      <td>...</td>\n",
              "      <td>...</td>\n",
              "      <td>...</td>\n",
              "      <td>...</td>\n",
              "      <td>...</td>\n",
              "    </tr>\n",
              "    <tr>\n",
              "      <th>923159</th>\n",
              "      <td>510</td>\n",
              "      <td>29430</td>\n",
              "      <td>50</td>\n",
              "      <td>2</td>\n",
              "      <td>58</td>\n",
              "      <td>7</td>\n",
              "      <td>8</td>\n",
              "      <td>20</td>\n",
              "      <td>1</td>\n",
              "      <td>3</td>\n",
              "    </tr>\n",
              "    <tr>\n",
              "      <th>923160</th>\n",
              "      <td>10</td>\n",
              "      <td>45731</td>\n",
              "      <td>28</td>\n",
              "      <td>2</td>\n",
              "      <td>95</td>\n",
              "      <td>4</td>\n",
              "      <td>23</td>\n",
              "      <td>13</td>\n",
              "      <td>2</td>\n",
              "      <td>3</td>\n",
              "    </tr>\n",
              "    <tr>\n",
              "      <th>923161</th>\n",
              "      <td>15</td>\n",
              "      <td>23939</td>\n",
              "      <td>24</td>\n",
              "      <td>2</td>\n",
              "      <td>394</td>\n",
              "      <td>4</td>\n",
              "      <td>18</td>\n",
              "      <td>23</td>\n",
              "      <td>4</td>\n",
              "      <td>3</td>\n",
              "    </tr>\n",
              "    <tr>\n",
              "      <th>923162</th>\n",
              "      <td>40</td>\n",
              "      <td>35030</td>\n",
              "      <td>32</td>\n",
              "      <td>5</td>\n",
              "      <td>217</td>\n",
              "      <td>9</td>\n",
              "      <td>13</td>\n",
              "      <td>12</td>\n",
              "      <td>4</td>\n",
              "      <td>3</td>\n",
              "    </tr>\n",
              "    <tr>\n",
              "      <th>923163</th>\n",
              "      <td>15</td>\n",
              "      <td>38670</td>\n",
              "      <td>45</td>\n",
              "      <td>2</td>\n",
              "      <td>307</td>\n",
              "      <td>5</td>\n",
              "      <td>0</td>\n",
              "      <td>21</td>\n",
              "      <td>3</td>\n",
              "      <td>3</td>\n",
              "    </tr>\n",
              "  </tbody>\n",
              "</table>\n",
              "<p>923164 rows × 10 columns</p>\n",
              "</div>\n",
              "      <button class=\"colab-df-convert\" onclick=\"convertToInteractive('df-ce069e7b-39bb-4e9f-88f2-00a5e85e7819')\"\n",
              "              title=\"Convert this dataframe to an interactive table.\"\n",
              "              style=\"display:none;\">\n",
              "        \n",
              "  <svg xmlns=\"http://www.w3.org/2000/svg\" height=\"24px\"viewBox=\"0 0 24 24\"\n",
              "       width=\"24px\">\n",
              "    <path d=\"M0 0h24v24H0V0z\" fill=\"none\"/>\n",
              "    <path d=\"M18.56 5.44l.94 2.06.94-2.06 2.06-.94-2.06-.94-.94-2.06-.94 2.06-2.06.94zm-11 1L8.5 8.5l.94-2.06 2.06-.94-2.06-.94L8.5 2.5l-.94 2.06-2.06.94zm10 10l.94 2.06.94-2.06 2.06-.94-2.06-.94-.94-2.06-.94 2.06-2.06.94z\"/><path d=\"M17.41 7.96l-1.37-1.37c-.4-.4-.92-.59-1.43-.59-.52 0-1.04.2-1.43.59L10.3 9.45l-7.72 7.72c-.78.78-.78 2.05 0 2.83L4 21.41c.39.39.9.59 1.41.59.51 0 1.02-.2 1.41-.59l7.78-7.78 2.81-2.81c.8-.78.8-2.07 0-2.86zM5.41 20L4 18.59l7.72-7.72 1.47 1.35L5.41 20z\"/>\n",
              "  </svg>\n",
              "      </button>\n",
              "      \n",
              "  <style>\n",
              "    .colab-df-container {\n",
              "      display:flex;\n",
              "      flex-wrap:wrap;\n",
              "      gap: 12px;\n",
              "    }\n",
              "\n",
              "    .colab-df-convert {\n",
              "      background-color: #E8F0FE;\n",
              "      border: none;\n",
              "      border-radius: 50%;\n",
              "      cursor: pointer;\n",
              "      display: none;\n",
              "      fill: #1967D2;\n",
              "      height: 32px;\n",
              "      padding: 0 0 0 0;\n",
              "      width: 32px;\n",
              "    }\n",
              "\n",
              "    .colab-df-convert:hover {\n",
              "      background-color: #E2EBFA;\n",
              "      box-shadow: 0px 1px 2px rgba(60, 64, 67, 0.3), 0px 1px 3px 1px rgba(60, 64, 67, 0.15);\n",
              "      fill: #174EA6;\n",
              "    }\n",
              "\n",
              "    [theme=dark] .colab-df-convert {\n",
              "      background-color: #3B4455;\n",
              "      fill: #D2E3FC;\n",
              "    }\n",
              "\n",
              "    [theme=dark] .colab-df-convert:hover {\n",
              "      background-color: #434B5C;\n",
              "      box-shadow: 0px 1px 3px 1px rgba(0, 0, 0, 0.15);\n",
              "      filter: drop-shadow(0px 1px 2px rgba(0, 0, 0, 0.3));\n",
              "      fill: #FFFFFF;\n",
              "    }\n",
              "  </style>\n",
              "\n",
              "      <script>\n",
              "        const buttonEl =\n",
              "          document.querySelector('#df-ce069e7b-39bb-4e9f-88f2-00a5e85e7819 button.colab-df-convert');\n",
              "        buttonEl.style.display =\n",
              "          google.colab.kernel.accessAllowed ? 'block' : 'none';\n",
              "\n",
              "        async function convertToInteractive(key) {\n",
              "          const element = document.querySelector('#df-ce069e7b-39bb-4e9f-88f2-00a5e85e7819');\n",
              "          const dataTable =\n",
              "            await google.colab.kernel.invokeFunction('convertToInteractive',\n",
              "                                                     [key], {});\n",
              "          if (!dataTable) return;\n",
              "\n",
              "          const docLinkHtml = 'Like what you see? Visit the ' +\n",
              "            '<a target=\"_blank\" href=https://colab.research.google.com/notebooks/data_table.ipynb>data table notebook</a>'\n",
              "            + ' to learn more about interactive tables.';\n",
              "          element.innerHTML = '';\n",
              "          dataTable['output_type'] = 'display_data';\n",
              "          await google.colab.output.renderOutput(dataTable, element);\n",
              "          const docLink = document.createElement('div');\n",
              "          docLink.innerHTML = docLinkHtml;\n",
              "          element.appendChild(docLink);\n",
              "        }\n",
              "      </script>\n",
              "    </div>\n",
              "  </div>\n",
              "  "
            ]
          },
          "metadata": {},
          "execution_count": 47
        }
      ],
      "source": [
        "RF_df_ml = RF_df_ml.drop(columns=[\"season_encoded\", \"year_encoded\", \"is_weekend_encoded\", 'prime_time_encoded', 'is_holiday_encoded'])\n",
        "\n",
        "RF_df_ml"
      ]
    },
    {
      "cell_type": "code",
      "execution_count": null,
      "metadata": {
        "id": "j5YJcuFgmyyH"
      },
      "outputs": [],
      "source": [
        "from sklearn.model_selection import train_test_split\n",
        "\n",
        "X = RF_df_ml.iloc[:, 0:9]\n",
        "y = RF_df_ml.iloc[:, 9]\n",
        "\n",
        "X_train_RF, X_test_RF, y_train_RF, y_test_RF = train_test_split(X, y, test_size=0.2, random_state=42)"
      ]
    },
    {
      "cell_type": "code",
      "execution_count": null,
      "metadata": {
        "colab": {
          "base_uri": "https://localhost:8080/"
        },
        "id": "TkXWLt66w8rE",
        "outputId": "0e2dd738-3022-4be6-8cbe-85c14b8dae0b"
      },
      "outputs": [
        {
          "output_type": "execute_result",
          "data": {
            "text/plain": [
              "RandomForestClassifier(criterion='entropy', n_estimators=130)"
            ]
          },
          "metadata": {},
          "execution_count": 49
        }
      ],
      "source": [
        "from sklearn.ensemble import RandomForestClassifier\n",
        "\n",
        "model_RF = RandomForestClassifier(n_estimators=130, criterion=\"entropy\")\n",
        "model_RF.fit(X_train_RF, y_train_RF)"
      ]
    },
    {
      "cell_type": "code",
      "execution_count": null,
      "metadata": {
        "id": "VzECGkQtxDZC"
      },
      "outputs": [],
      "source": [
        "RF_prediction = model_RF.predict(X_test_RF)"
      ]
    },
    {
      "cell_type": "code",
      "execution_count": null,
      "metadata": {
        "colab": {
          "base_uri": "https://localhost:8080/"
        },
        "id": "U985WvsqxE4V",
        "outputId": "e3d66a2d-104b-4269-c4e1-6283b4dcc7de"
      },
      "outputs": [
        {
          "output_type": "execute_result",
          "data": {
            "text/plain": [
              "0.8373476030828725"
            ]
          },
          "metadata": {},
          "execution_count": 51
        }
      ],
      "source": [
        "accuracy_score(y_test_RF, RF_prediction)"
      ]
    },
    {
      "cell_type": "code",
      "execution_count": null,
      "metadata": {
        "colab": {
          "base_uri": "https://localhost:8080/"
        },
        "id": "V0MPSVnExGbB",
        "outputId": "076c6421-64ab-45c9-e6b9-b64e55a67fcd"
      },
      "outputs": [
        {
          "output_type": "execute_result",
          "data": {
            "text/plain": [
              "0.8365498878761919"
            ]
          },
          "metadata": {},
          "execution_count": 52
        }
      ],
      "source": [
        "precision_score(y_test_RF, RF_prediction, average='weighted')"
      ]
    },
    {
      "cell_type": "code",
      "execution_count": null,
      "metadata": {
        "colab": {
          "base_uri": "https://localhost:8080/"
        },
        "id": "ROmSS5Z9xJsJ",
        "outputId": "7f2606fc-ffd0-42ce-992e-ab960a49bb00"
      },
      "outputs": [
        {
          "output_type": "execute_result",
          "data": {
            "text/plain": [
              "0.8373476030828725"
            ]
          },
          "metadata": {},
          "execution_count": 53
        }
      ],
      "source": [
        "recall_score(y_test_RF, RF_prediction, average='weighted')"
      ]
    },
    {
      "cell_type": "code",
      "execution_count": null,
      "metadata": {
        "colab": {
          "base_uri": "https://localhost:8080/"
        },
        "id": "hyCF54DSxK4L",
        "outputId": "4e49a520-c4eb-41f3-de73-4da82f77edce"
      },
      "outputs": [
        {
          "output_type": "execute_result",
          "data": {
            "text/plain": [
              "0.836834820734636"
            ]
          },
          "metadata": {},
          "execution_count": 54
        }
      ],
      "source": [
        "f1_score(y_test_RF, RF_prediction, average='weighted')"
      ]
    },
    {
      "cell_type": "code",
      "execution_count": null,
      "metadata": {
        "colab": {
          "base_uri": "https://localhost:8080/"
        },
        "id": "9u5_NnM3xMBX",
        "outputId": "5178de79-ef8d-4258-d688-0226bcb3e81e"
      },
      "outputs": [
        {
          "output_type": "execute_result",
          "data": {
            "text/plain": [
              "0.8704268965759361"
            ]
          },
          "metadata": {},
          "execution_count": 55
        }
      ],
      "source": [
        "fpr, tpr, thresholds = roc_curve(y_test_RF, RF_prediction, pos_label=3)\n",
        "\n",
        "auc(fpr, tpr)"
      ]
    },
    {
      "cell_type": "markdown",
      "metadata": {
        "id": "g7O0q9uTz6Lp"
      },
      "source": [
        "##### Gradient Boosting"
      ]
    },
    {
      "cell_type": "markdown",
      "metadata": {
        "id": "HhpfmFKYsKaI"
      },
      "source": [
        "###### In Boosting models, removing less features reduced the accuracy score, therefore i use the data splits, where all the features are existing: X_train, X_test, y_train, y_test"
      ]
    },
    {
      "cell_type": "code",
      "execution_count": null,
      "metadata": {
        "id": "2sX5kFSiz-jT"
      },
      "outputs": [],
      "source": [
        "from sklearn.ensemble import GradientBoostingClassifier\n",
        "\n",
        "model_GB = GradientBoostingClassifier(loss=\"deviance\", n_estimators=300)\n",
        "model_GB.fit(X_train, y_train)\n",
        "\n",
        "GB_prediction = model_GB.predict(X_test)"
      ]
    },
    {
      "cell_type": "code",
      "execution_count": null,
      "metadata": {
        "colab": {
          "base_uri": "https://localhost:8080/"
        },
        "id": "Sw0ISlTn0FDt",
        "outputId": "735b2341-b437-4fce-b664-534f7b8527ef"
      },
      "outputs": [
        {
          "output_type": "execute_result",
          "data": {
            "text/plain": [
              "0.7124078577502396"
            ]
          },
          "metadata": {},
          "execution_count": 57
        }
      ],
      "source": [
        "accuracy_score(y_test, GB_prediction)"
      ]
    },
    {
      "cell_type": "code",
      "execution_count": null,
      "metadata": {
        "colab": {
          "base_uri": "https://localhost:8080/"
        },
        "id": "YNSL4ON70Dyx",
        "outputId": "6b912dfd-274c-45a6-eda0-bf54b5606a42"
      },
      "outputs": [
        {
          "output_type": "execute_result",
          "data": {
            "text/plain": [
              "0.7072113873990569"
            ]
          },
          "metadata": {},
          "execution_count": 58
        }
      ],
      "source": [
        "precision_score(y_test, GB_prediction, average='weighted')"
      ]
    },
    {
      "cell_type": "code",
      "execution_count": null,
      "metadata": {
        "colab": {
          "base_uri": "https://localhost:8080/"
        },
        "id": "0JTwSj970CJg",
        "outputId": "54651eff-6998-4b87-cab3-92567716740d"
      },
      "outputs": [
        {
          "output_type": "execute_result",
          "data": {
            "text/plain": [
              "0.7124078577502396"
            ]
          },
          "metadata": {},
          "execution_count": 59
        }
      ],
      "source": [
        "recall_score(y_test, GB_prediction, average='weighted')"
      ]
    },
    {
      "cell_type": "code",
      "execution_count": null,
      "metadata": {
        "colab": {
          "base_uri": "https://localhost:8080/"
        },
        "id": "Q7l8UehEz_8X",
        "outputId": "11c6bfbf-2e62-4fa1-cbe6-cb2baca235d5"
      },
      "outputs": [
        {
          "output_type": "execute_result",
          "data": {
            "text/plain": [
              "0.703038470655147"
            ]
          },
          "metadata": {},
          "execution_count": 60
        }
      ],
      "source": [
        "f1_score(y_test, GB_prediction, average='weighted')"
      ]
    },
    {
      "cell_type": "code",
      "execution_count": null,
      "metadata": {
        "colab": {
          "base_uri": "https://localhost:8080/"
        },
        "id": "jfVPQY759SFS",
        "outputId": "0b4b7390-cac3-4ebf-a3b6-7798038392a2"
      },
      "outputs": [
        {
          "output_type": "execute_result",
          "data": {
            "text/plain": [
              "0.779131933530858"
            ]
          },
          "metadata": {},
          "execution_count": 61
        }
      ],
      "source": [
        "fpr, tpr, thresholds = roc_curve(y_test, GB_prediction, pos_label=3)\n",
        "auc(fpr, tpr)"
      ]
    },
    {
      "cell_type": "markdown",
      "metadata": {
        "id": "RxXuthsR0NlE"
      },
      "source": [
        "##### XGBoost"
      ]
    },
    {
      "cell_type": "code",
      "execution_count": null,
      "metadata": {
        "id": "sqpTc2f_0PSq"
      },
      "outputs": [],
      "source": [
        "from xgboost import XGBClassifier\n",
        "\n",
        "model_XGB = XGBClassifier()\n",
        "model_XGB.fit(X_train, y_train, verbose=False)\n",
        "\n",
        "XGB_prediction = model_XGB.predict(X_test)"
      ]
    },
    {
      "cell_type": "code",
      "execution_count": null,
      "metadata": {
        "colab": {
          "base_uri": "https://localhost:8080/"
        },
        "id": "ql8LNuTB0TlJ",
        "outputId": "747e0a90-5ae2-4818-a864-22c476809693"
      },
      "outputs": [
        {
          "output_type": "execute_result",
          "data": {
            "text/plain": [
              "0.6196833718782666"
            ]
          },
          "metadata": {},
          "execution_count": 63
        }
      ],
      "source": [
        "accuracy_score(y_test, XGB_prediction)"
      ]
    },
    {
      "cell_type": "code",
      "execution_count": null,
      "metadata": {
        "colab": {
          "base_uri": "https://localhost:8080/"
        },
        "id": "3PXr3eIw0V4y",
        "outputId": "889e676c-c111-41a0-ae5e-c39025a10429"
      },
      "outputs": [
        {
          "output_type": "execute_result",
          "data": {
            "text/plain": [
              "0.6057697199170529"
            ]
          },
          "metadata": {},
          "execution_count": 64
        }
      ],
      "source": [
        "precision_score(y_test, XGB_prediction, average='weighted')"
      ]
    },
    {
      "cell_type": "code",
      "execution_count": null,
      "metadata": {
        "colab": {
          "base_uri": "https://localhost:8080/"
        },
        "id": "u22C0a-j0X_b",
        "outputId": "2338d4d3-5842-4017-85e3-41b6fecad461"
      },
      "outputs": [
        {
          "output_type": "execute_result",
          "data": {
            "text/plain": [
              "0.6196833718782666"
            ]
          },
          "metadata": {},
          "execution_count": 65
        }
      ],
      "source": [
        "recall_score(y_test, XGB_prediction, average='weighted')"
      ]
    },
    {
      "cell_type": "code",
      "execution_count": null,
      "metadata": {
        "colab": {
          "base_uri": "https://localhost:8080/"
        },
        "id": "2BpCWVYT0Ygj",
        "outputId": "802dddea-debe-438e-fc62-942eeeb78136"
      },
      "outputs": [
        {
          "output_type": "execute_result",
          "data": {
            "text/plain": [
              "0.5907725421725523"
            ]
          },
          "metadata": {},
          "execution_count": 66
        }
      ],
      "source": [
        "f1_score(y_test, XGB_prediction, average='weighted')"
      ]
    },
    {
      "cell_type": "code",
      "execution_count": null,
      "metadata": {
        "colab": {
          "base_uri": "https://localhost:8080/"
        },
        "id": "k3t88n3S0ZtX",
        "outputId": "31a61f08-c498-4be2-a45c-4223532f8816"
      },
      "outputs": [
        {
          "output_type": "execute_result",
          "data": {
            "text/plain": [
              "0.7063133972630516"
            ]
          },
          "metadata": {},
          "execution_count": 67
        }
      ],
      "source": [
        "fpr, tpr, thresholds = roc_curve(y_test, XGB_prediction, pos_label=3)\n",
        "auc(fpr, tpr)"
      ]
    },
    {
      "cell_type": "markdown",
      "metadata": {
        "id": "nbGFQ76e0bQE"
      },
      "source": [
        "##### CatBoost"
      ]
    },
    {
      "cell_type": "code",
      "execution_count": null,
      "metadata": {
        "id": "3BOoZQPu-Ed9"
      },
      "outputs": [],
      "source": [
        "# Please change the runtime type on the menu above to GPU "
      ]
    },
    {
      "cell_type": "code",
      "execution_count": null,
      "metadata": {
        "colab": {
          "base_uri": "https://localhost:8080/"
        },
        "id": "5Ydv8f5F0ibt",
        "outputId": "05968476-31a4-406c-c304-1017f3744f44"
      },
      "outputs": [
        {
          "output_type": "stream",
          "name": "stdout",
          "text": [
            "Looking in indexes: https://pypi.org/simple, https://us-python.pkg.dev/colab-wheels/public/simple/\n",
            "Collecting catboost\n",
            "  Downloading catboost-1.0.6-cp37-none-manylinux1_x86_64.whl (76.6 MB)\n",
            "\u001b[K     |████████████████████████████████| 76.6 MB 82 kB/s \n",
            "\u001b[?25hRequirement already satisfied: six in /usr/local/lib/python3.7/dist-packages (from catboost) (1.15.0)\n",
            "Requirement already satisfied: matplotlib in /usr/local/lib/python3.7/dist-packages (from catboost) (3.2.2)\n",
            "Requirement already satisfied: graphviz in /usr/local/lib/python3.7/dist-packages (from catboost) (0.10.1)\n",
            "Requirement already satisfied: pandas>=0.24.0 in /usr/local/lib/python3.7/dist-packages (from catboost) (1.3.5)\n",
            "Requirement already satisfied: plotly in /usr/local/lib/python3.7/dist-packages (from catboost) (5.5.0)\n",
            "Requirement already satisfied: scipy in /usr/local/lib/python3.7/dist-packages (from catboost) (1.7.3)\n",
            "Requirement already satisfied: numpy>=1.16.0 in /usr/local/lib/python3.7/dist-packages (from catboost) (1.21.6)\n",
            "Requirement already satisfied: pytz>=2017.3 in /usr/local/lib/python3.7/dist-packages (from pandas>=0.24.0->catboost) (2022.1)\n",
            "Requirement already satisfied: python-dateutil>=2.7.3 in /usr/local/lib/python3.7/dist-packages (from pandas>=0.24.0->catboost) (2.8.2)\n",
            "Requirement already satisfied: pyparsing!=2.0.4,!=2.1.2,!=2.1.6,>=2.0.1 in /usr/local/lib/python3.7/dist-packages (from matplotlib->catboost) (3.0.9)\n",
            "Requirement already satisfied: cycler>=0.10 in /usr/local/lib/python3.7/dist-packages (from matplotlib->catboost) (0.11.0)\n",
            "Requirement already satisfied: kiwisolver>=1.0.1 in /usr/local/lib/python3.7/dist-packages (from matplotlib->catboost) (1.4.4)\n",
            "Requirement already satisfied: typing-extensions in /usr/local/lib/python3.7/dist-packages (from kiwisolver>=1.0.1->matplotlib->catboost) (4.1.1)\n",
            "Requirement already satisfied: tenacity>=6.2.0 in /usr/local/lib/python3.7/dist-packages (from plotly->catboost) (8.0.1)\n",
            "Installing collected packages: catboost\n",
            "Successfully installed catboost-1.0.6\n"
          ]
        }
      ],
      "source": [
        "!pip install catboost\n",
        "\n",
        "from catboost import CatBoostClassifier"
      ]
    },
    {
      "cell_type": "code",
      "source": [
        "\n",
        "model_CB = CatBoostClassifier()\n",
        "model_CB.fit(X_train, y_train, verbose = False)\n",
        "\n",
        "CB_prediction = model_CB.predict(X_test)"
      ],
      "metadata": {
        "id": "HzC0mKnGDi_a"
      },
      "execution_count": null,
      "outputs": []
    },
    {
      "cell_type": "code",
      "execution_count": null,
      "metadata": {
        "colab": {
          "base_uri": "https://localhost:8080/"
        },
        "id": "HItbsRNN0p03",
        "outputId": "2ed3802b-b298-4eec-a64e-4d348779449d"
      },
      "outputs": [
        {
          "output_type": "execute_result",
          "data": {
            "text/plain": [
              "0.7915648881835858"
            ]
          },
          "metadata": {},
          "execution_count": 71
        }
      ],
      "source": [
        "accuracy_score(y_test, CB_prediction)"
      ]
    },
    {
      "cell_type": "code",
      "execution_count": null,
      "metadata": {
        "colab": {
          "base_uri": "https://localhost:8080/"
        },
        "id": "4Fx0qZTD0q0r",
        "outputId": "1e92201e-85bc-4bc9-add1-62ed560c6dd5"
      },
      "outputs": [
        {
          "output_type": "execute_result",
          "data": {
            "text/plain": [
              "0.7894589003804278"
            ]
          },
          "metadata": {},
          "execution_count": 72
        }
      ],
      "source": [
        "precision_score(y_test, CB_prediction, average='weighted')"
      ]
    },
    {
      "cell_type": "code",
      "execution_count": null,
      "metadata": {
        "colab": {
          "base_uri": "https://localhost:8080/"
        },
        "id": "6dYEQXX60rKj",
        "outputId": "51bbccc1-56f3-4602-dd3d-4bcd3be549cf"
      },
      "outputs": [
        {
          "output_type": "execute_result",
          "data": {
            "text/plain": [
              "0.7915648881835858"
            ]
          },
          "metadata": {},
          "execution_count": 73
        }
      ],
      "source": [
        "recall_score(y_test, CB_prediction, average='weighted')"
      ]
    },
    {
      "cell_type": "code",
      "execution_count": null,
      "metadata": {
        "colab": {
          "base_uri": "https://localhost:8080/"
        },
        "id": "mN8H1LZw0sZv",
        "outputId": "03b63161-ccd0-4476-d1b3-45eee2352a30"
      },
      "outputs": [
        {
          "output_type": "execute_result",
          "data": {
            "text/plain": [
              "0.7895667430210036"
            ]
          },
          "metadata": {},
          "execution_count": 74
        }
      ],
      "source": [
        "f1_score(y_test, CB_prediction, average='weighted')"
      ]
    },
    {
      "cell_type": "code",
      "execution_count": null,
      "metadata": {
        "colab": {
          "base_uri": "https://localhost:8080/"
        },
        "id": "qZD203_J0uWs",
        "outputId": "a4c98929-2b82-469c-bc0b-1c8ccb1e3354"
      },
      "outputs": [
        {
          "output_type": "execute_result",
          "data": {
            "text/plain": [
              "0.8369704637696604"
            ]
          },
          "metadata": {},
          "execution_count": 75
        }
      ],
      "source": [
        "fpr, tpr, thresholds = roc_curve(y_test, CB_prediction, pos_label=3)\n",
        "auc(fpr, tpr)"
      ]
    },
    {
      "cell_type": "markdown",
      "metadata": {
        "id": "mqoN_z091Bkg"
      },
      "source": [
        "##### Neural Networks"
      ]
    },
    {
      "cell_type": "markdown",
      "metadata": {
        "id": "OUonSLKNs6Z2"
      },
      "source": [
        "###### In Neural Networks model dropping the below mentioned features helped increasing the accuracy score. Therefore, here the data splits will be used, which don't include these features. X_train_NN, X_test_NN, y_train_NN, y_test_NN"
      ]
    },
    {
      "cell_type": "code",
      "execution_count": null,
      "metadata": {
        "colab": {
          "base_uri": "https://localhost:8080/",
          "height": 488
        },
        "id": "hoZc7gaHtW9h",
        "outputId": "f4b78be6-5ac6-4840-fb2f-4a3d07c86ffd"
      },
      "outputs": [
        {
          "output_type": "execute_result",
          "data": {
            "text/plain": [
              "        duration  title_encoded  genres_encoded  cats_encoded  \\\n",
              "0            245          42178              41             1   \n",
              "1            165           6297              33             2   \n",
              "2            240          42178              41             1   \n",
              "3            245          42178              41             1   \n",
              "4            180          52843              41             1   \n",
              "...          ...            ...             ...           ...   \n",
              "923159       510          29430              50             2   \n",
              "923160        10          45731              28             2   \n",
              "923161        15          23939              24             2   \n",
              "923162        40          35030              32             5   \n",
              "923163        15          38670              45             2   \n",
              "\n",
              "        meta_cname_encoded  year_encoded  month_encoded  days_encoded  \\\n",
              "0                      294             1              0            28   \n",
              "1                       24             0              8            25   \n",
              "2                      294             0             10            26   \n",
              "3                      294             0             11            17   \n",
              "4                      457             0             10             5   \n",
              "...                    ...           ...            ...           ...   \n",
              "923159                  58             0              7             8   \n",
              "923160                  95             1              4            23   \n",
              "923161                 394             1              4            18   \n",
              "923162                 217             0              9            13   \n",
              "923163                 307             1              5             0   \n",
              "\n",
              "        hour_encoded  week_day_encoded  is_weekend_encoded  season_encoded  \\\n",
              "0                 19                 6                   1               3   \n",
              "1                 15                 0                   0               0   \n",
              "2                 19                 6                   1               0   \n",
              "3                 19                 6                   1               3   \n",
              "4                 19                 6                   1               0   \n",
              "...              ...               ...                 ...             ...   \n",
              "923159            20                 1                   0               2   \n",
              "923160            13                 2                   0               1   \n",
              "923161            23                 4                   0               1   \n",
              "923162            12                 4                   0               0   \n",
              "923163            21                 3                   0               2   \n",
              "\n",
              "        prime_time_encoded  is_holiday_encoded  popularity_cat_encoded  \n",
              "0                        0                   0                       2  \n",
              "1                        0                   0                       2  \n",
              "2                        0                   0                       2  \n",
              "3                        0                   0                       2  \n",
              "4                        0                   0                       2  \n",
              "...                    ...                 ...                     ...  \n",
              "923159                   0                   0                       3  \n",
              "923160                   0                   0                       3  \n",
              "923161                   1                   0                       3  \n",
              "923162                   0                   0                       3  \n",
              "923163                   1                   0                       3  \n",
              "\n",
              "[923164 rows x 15 columns]"
            ],
            "text/html": [
              "\n",
              "  <div id=\"df-70ddf486-c8ae-495d-975d-c4777406c23a\">\n",
              "    <div class=\"colab-df-container\">\n",
              "      <div>\n",
              "<style scoped>\n",
              "    .dataframe tbody tr th:only-of-type {\n",
              "        vertical-align: middle;\n",
              "    }\n",
              "\n",
              "    .dataframe tbody tr th {\n",
              "        vertical-align: top;\n",
              "    }\n",
              "\n",
              "    .dataframe thead th {\n",
              "        text-align: right;\n",
              "    }\n",
              "</style>\n",
              "<table border=\"1\" class=\"dataframe\">\n",
              "  <thead>\n",
              "    <tr style=\"text-align: right;\">\n",
              "      <th></th>\n",
              "      <th>duration</th>\n",
              "      <th>title_encoded</th>\n",
              "      <th>genres_encoded</th>\n",
              "      <th>cats_encoded</th>\n",
              "      <th>meta_cname_encoded</th>\n",
              "      <th>year_encoded</th>\n",
              "      <th>month_encoded</th>\n",
              "      <th>days_encoded</th>\n",
              "      <th>hour_encoded</th>\n",
              "      <th>week_day_encoded</th>\n",
              "      <th>is_weekend_encoded</th>\n",
              "      <th>season_encoded</th>\n",
              "      <th>prime_time_encoded</th>\n",
              "      <th>is_holiday_encoded</th>\n",
              "      <th>popularity_cat_encoded</th>\n",
              "    </tr>\n",
              "  </thead>\n",
              "  <tbody>\n",
              "    <tr>\n",
              "      <th>0</th>\n",
              "      <td>245</td>\n",
              "      <td>42178</td>\n",
              "      <td>41</td>\n",
              "      <td>1</td>\n",
              "      <td>294</td>\n",
              "      <td>1</td>\n",
              "      <td>0</td>\n",
              "      <td>28</td>\n",
              "      <td>19</td>\n",
              "      <td>6</td>\n",
              "      <td>1</td>\n",
              "      <td>3</td>\n",
              "      <td>0</td>\n",
              "      <td>0</td>\n",
              "      <td>2</td>\n",
              "    </tr>\n",
              "    <tr>\n",
              "      <th>1</th>\n",
              "      <td>165</td>\n",
              "      <td>6297</td>\n",
              "      <td>33</td>\n",
              "      <td>2</td>\n",
              "      <td>24</td>\n",
              "      <td>0</td>\n",
              "      <td>8</td>\n",
              "      <td>25</td>\n",
              "      <td>15</td>\n",
              "      <td>0</td>\n",
              "      <td>0</td>\n",
              "      <td>0</td>\n",
              "      <td>0</td>\n",
              "      <td>0</td>\n",
              "      <td>2</td>\n",
              "    </tr>\n",
              "    <tr>\n",
              "      <th>2</th>\n",
              "      <td>240</td>\n",
              "      <td>42178</td>\n",
              "      <td>41</td>\n",
              "      <td>1</td>\n",
              "      <td>294</td>\n",
              "      <td>0</td>\n",
              "      <td>10</td>\n",
              "      <td>26</td>\n",
              "      <td>19</td>\n",
              "      <td>6</td>\n",
              "      <td>1</td>\n",
              "      <td>0</td>\n",
              "      <td>0</td>\n",
              "      <td>0</td>\n",
              "      <td>2</td>\n",
              "    </tr>\n",
              "    <tr>\n",
              "      <th>3</th>\n",
              "      <td>245</td>\n",
              "      <td>42178</td>\n",
              "      <td>41</td>\n",
              "      <td>1</td>\n",
              "      <td>294</td>\n",
              "      <td>0</td>\n",
              "      <td>11</td>\n",
              "      <td>17</td>\n",
              "      <td>19</td>\n",
              "      <td>6</td>\n",
              "      <td>1</td>\n",
              "      <td>3</td>\n",
              "      <td>0</td>\n",
              "      <td>0</td>\n",
              "      <td>2</td>\n",
              "    </tr>\n",
              "    <tr>\n",
              "      <th>4</th>\n",
              "      <td>180</td>\n",
              "      <td>52843</td>\n",
              "      <td>41</td>\n",
              "      <td>1</td>\n",
              "      <td>457</td>\n",
              "      <td>0</td>\n",
              "      <td>10</td>\n",
              "      <td>5</td>\n",
              "      <td>19</td>\n",
              "      <td>6</td>\n",
              "      <td>1</td>\n",
              "      <td>0</td>\n",
              "      <td>0</td>\n",
              "      <td>0</td>\n",
              "      <td>2</td>\n",
              "    </tr>\n",
              "    <tr>\n",
              "      <th>...</th>\n",
              "      <td>...</td>\n",
              "      <td>...</td>\n",
              "      <td>...</td>\n",
              "      <td>...</td>\n",
              "      <td>...</td>\n",
              "      <td>...</td>\n",
              "      <td>...</td>\n",
              "      <td>...</td>\n",
              "      <td>...</td>\n",
              "      <td>...</td>\n",
              "      <td>...</td>\n",
              "      <td>...</td>\n",
              "      <td>...</td>\n",
              "      <td>...</td>\n",
              "      <td>...</td>\n",
              "    </tr>\n",
              "    <tr>\n",
              "      <th>923159</th>\n",
              "      <td>510</td>\n",
              "      <td>29430</td>\n",
              "      <td>50</td>\n",
              "      <td>2</td>\n",
              "      <td>58</td>\n",
              "      <td>0</td>\n",
              "      <td>7</td>\n",
              "      <td>8</td>\n",
              "      <td>20</td>\n",
              "      <td>1</td>\n",
              "      <td>0</td>\n",
              "      <td>2</td>\n",
              "      <td>0</td>\n",
              "      <td>0</td>\n",
              "      <td>3</td>\n",
              "    </tr>\n",
              "    <tr>\n",
              "      <th>923160</th>\n",
              "      <td>10</td>\n",
              "      <td>45731</td>\n",
              "      <td>28</td>\n",
              "      <td>2</td>\n",
              "      <td>95</td>\n",
              "      <td>1</td>\n",
              "      <td>4</td>\n",
              "      <td>23</td>\n",
              "      <td>13</td>\n",
              "      <td>2</td>\n",
              "      <td>0</td>\n",
              "      <td>1</td>\n",
              "      <td>0</td>\n",
              "      <td>0</td>\n",
              "      <td>3</td>\n",
              "    </tr>\n",
              "    <tr>\n",
              "      <th>923161</th>\n",
              "      <td>15</td>\n",
              "      <td>23939</td>\n",
              "      <td>24</td>\n",
              "      <td>2</td>\n",
              "      <td>394</td>\n",
              "      <td>1</td>\n",
              "      <td>4</td>\n",
              "      <td>18</td>\n",
              "      <td>23</td>\n",
              "      <td>4</td>\n",
              "      <td>0</td>\n",
              "      <td>1</td>\n",
              "      <td>1</td>\n",
              "      <td>0</td>\n",
              "      <td>3</td>\n",
              "    </tr>\n",
              "    <tr>\n",
              "      <th>923162</th>\n",
              "      <td>40</td>\n",
              "      <td>35030</td>\n",
              "      <td>32</td>\n",
              "      <td>5</td>\n",
              "      <td>217</td>\n",
              "      <td>0</td>\n",
              "      <td>9</td>\n",
              "      <td>13</td>\n",
              "      <td>12</td>\n",
              "      <td>4</td>\n",
              "      <td>0</td>\n",
              "      <td>0</td>\n",
              "      <td>0</td>\n",
              "      <td>0</td>\n",
              "      <td>3</td>\n",
              "    </tr>\n",
              "    <tr>\n",
              "      <th>923163</th>\n",
              "      <td>15</td>\n",
              "      <td>38670</td>\n",
              "      <td>45</td>\n",
              "      <td>2</td>\n",
              "      <td>307</td>\n",
              "      <td>1</td>\n",
              "      <td>5</td>\n",
              "      <td>0</td>\n",
              "      <td>21</td>\n",
              "      <td>3</td>\n",
              "      <td>0</td>\n",
              "      <td>2</td>\n",
              "      <td>1</td>\n",
              "      <td>0</td>\n",
              "      <td>3</td>\n",
              "    </tr>\n",
              "  </tbody>\n",
              "</table>\n",
              "<p>923164 rows × 15 columns</p>\n",
              "</div>\n",
              "      <button class=\"colab-df-convert\" onclick=\"convertToInteractive('df-70ddf486-c8ae-495d-975d-c4777406c23a')\"\n",
              "              title=\"Convert this dataframe to an interactive table.\"\n",
              "              style=\"display:none;\">\n",
              "        \n",
              "  <svg xmlns=\"http://www.w3.org/2000/svg\" height=\"24px\"viewBox=\"0 0 24 24\"\n",
              "       width=\"24px\">\n",
              "    <path d=\"M0 0h24v24H0V0z\" fill=\"none\"/>\n",
              "    <path d=\"M18.56 5.44l.94 2.06.94-2.06 2.06-.94-2.06-.94-.94-2.06-.94 2.06-2.06.94zm-11 1L8.5 8.5l.94-2.06 2.06-.94-2.06-.94L8.5 2.5l-.94 2.06-2.06.94zm10 10l.94 2.06.94-2.06 2.06-.94-2.06-.94-.94-2.06-.94 2.06-2.06.94z\"/><path d=\"M17.41 7.96l-1.37-1.37c-.4-.4-.92-.59-1.43-.59-.52 0-1.04.2-1.43.59L10.3 9.45l-7.72 7.72c-.78.78-.78 2.05 0 2.83L4 21.41c.39.39.9.59 1.41.59.51 0 1.02-.2 1.41-.59l7.78-7.78 2.81-2.81c.8-.78.8-2.07 0-2.86zM5.41 20L4 18.59l7.72-7.72 1.47 1.35L5.41 20z\"/>\n",
              "  </svg>\n",
              "      </button>\n",
              "      \n",
              "  <style>\n",
              "    .colab-df-container {\n",
              "      display:flex;\n",
              "      flex-wrap:wrap;\n",
              "      gap: 12px;\n",
              "    }\n",
              "\n",
              "    .colab-df-convert {\n",
              "      background-color: #E8F0FE;\n",
              "      border: none;\n",
              "      border-radius: 50%;\n",
              "      cursor: pointer;\n",
              "      display: none;\n",
              "      fill: #1967D2;\n",
              "      height: 32px;\n",
              "      padding: 0 0 0 0;\n",
              "      width: 32px;\n",
              "    }\n",
              "\n",
              "    .colab-df-convert:hover {\n",
              "      background-color: #E2EBFA;\n",
              "      box-shadow: 0px 1px 2px rgba(60, 64, 67, 0.3), 0px 1px 3px 1px rgba(60, 64, 67, 0.15);\n",
              "      fill: #174EA6;\n",
              "    }\n",
              "\n",
              "    [theme=dark] .colab-df-convert {\n",
              "      background-color: #3B4455;\n",
              "      fill: #D2E3FC;\n",
              "    }\n",
              "\n",
              "    [theme=dark] .colab-df-convert:hover {\n",
              "      background-color: #434B5C;\n",
              "      box-shadow: 0px 1px 3px 1px rgba(0, 0, 0, 0.15);\n",
              "      filter: drop-shadow(0px 1px 2px rgba(0, 0, 0, 0.3));\n",
              "      fill: #FFFFFF;\n",
              "    }\n",
              "  </style>\n",
              "\n",
              "      <script>\n",
              "        const buttonEl =\n",
              "          document.querySelector('#df-70ddf486-c8ae-495d-975d-c4777406c23a button.colab-df-convert');\n",
              "        buttonEl.style.display =\n",
              "          google.colab.kernel.accessAllowed ? 'block' : 'none';\n",
              "\n",
              "        async function convertToInteractive(key) {\n",
              "          const element = document.querySelector('#df-70ddf486-c8ae-495d-975d-c4777406c23a');\n",
              "          const dataTable =\n",
              "            await google.colab.kernel.invokeFunction('convertToInteractive',\n",
              "                                                     [key], {});\n",
              "          if (!dataTable) return;\n",
              "\n",
              "          const docLinkHtml = 'Like what you see? Visit the ' +\n",
              "            '<a target=\"_blank\" href=https://colab.research.google.com/notebooks/data_table.ipynb>data table notebook</a>'\n",
              "            + ' to learn more about interactive tables.';\n",
              "          element.innerHTML = '';\n",
              "          dataTable['output_type'] = 'display_data';\n",
              "          await google.colab.output.renderOutput(dataTable, element);\n",
              "          const docLink = document.createElement('div');\n",
              "          docLink.innerHTML = docLinkHtml;\n",
              "          element.appendChild(docLink);\n",
              "        }\n",
              "      </script>\n",
              "    </div>\n",
              "  </div>\n",
              "  "
            ]
          },
          "metadata": {},
          "execution_count": 76
        }
      ],
      "source": [
        "NN_df_ml = df_ml.copy()\n",
        "\n",
        "NN_df_ml "
      ]
    },
    {
      "cell_type": "code",
      "execution_count": null,
      "metadata": {
        "colab": {
          "base_uri": "https://localhost:8080/",
          "height": 424
        },
        "id": "A3uZJOxltcxU",
        "outputId": "da45e363-d323-4df6-ae40-afbeddf98c40"
      },
      "outputs": [
        {
          "output_type": "execute_result",
          "data": {
            "text/plain": [
              "        duration  genres_encoded  cats_encoded  meta_cname_encoded  \\\n",
              "0            245              41             1                 294   \n",
              "1            165              33             2                  24   \n",
              "2            240              41             1                 294   \n",
              "3            245              41             1                 294   \n",
              "4            180              41             1                 457   \n",
              "...          ...             ...           ...                 ...   \n",
              "923159       510              50             2                  58   \n",
              "923160        10              28             2                  95   \n",
              "923161        15              24             2                 394   \n",
              "923162        40              32             5                 217   \n",
              "923163        15              45             2                 307   \n",
              "\n",
              "        hour_encoded  popularity_cat_encoded  \n",
              "0                 19                       2  \n",
              "1                 15                       2  \n",
              "2                 19                       2  \n",
              "3                 19                       2  \n",
              "4                 19                       2  \n",
              "...              ...                     ...  \n",
              "923159            20                       3  \n",
              "923160            13                       3  \n",
              "923161            23                       3  \n",
              "923162            12                       3  \n",
              "923163            21                       3  \n",
              "\n",
              "[923164 rows x 6 columns]"
            ],
            "text/html": [
              "\n",
              "  <div id=\"df-2d897122-2bf1-42e2-a92c-bcd5f668b764\">\n",
              "    <div class=\"colab-df-container\">\n",
              "      <div>\n",
              "<style scoped>\n",
              "    .dataframe tbody tr th:only-of-type {\n",
              "        vertical-align: middle;\n",
              "    }\n",
              "\n",
              "    .dataframe tbody tr th {\n",
              "        vertical-align: top;\n",
              "    }\n",
              "\n",
              "    .dataframe thead th {\n",
              "        text-align: right;\n",
              "    }\n",
              "</style>\n",
              "<table border=\"1\" class=\"dataframe\">\n",
              "  <thead>\n",
              "    <tr style=\"text-align: right;\">\n",
              "      <th></th>\n",
              "      <th>duration</th>\n",
              "      <th>genres_encoded</th>\n",
              "      <th>cats_encoded</th>\n",
              "      <th>meta_cname_encoded</th>\n",
              "      <th>hour_encoded</th>\n",
              "      <th>popularity_cat_encoded</th>\n",
              "    </tr>\n",
              "  </thead>\n",
              "  <tbody>\n",
              "    <tr>\n",
              "      <th>0</th>\n",
              "      <td>245</td>\n",
              "      <td>41</td>\n",
              "      <td>1</td>\n",
              "      <td>294</td>\n",
              "      <td>19</td>\n",
              "      <td>2</td>\n",
              "    </tr>\n",
              "    <tr>\n",
              "      <th>1</th>\n",
              "      <td>165</td>\n",
              "      <td>33</td>\n",
              "      <td>2</td>\n",
              "      <td>24</td>\n",
              "      <td>15</td>\n",
              "      <td>2</td>\n",
              "    </tr>\n",
              "    <tr>\n",
              "      <th>2</th>\n",
              "      <td>240</td>\n",
              "      <td>41</td>\n",
              "      <td>1</td>\n",
              "      <td>294</td>\n",
              "      <td>19</td>\n",
              "      <td>2</td>\n",
              "    </tr>\n",
              "    <tr>\n",
              "      <th>3</th>\n",
              "      <td>245</td>\n",
              "      <td>41</td>\n",
              "      <td>1</td>\n",
              "      <td>294</td>\n",
              "      <td>19</td>\n",
              "      <td>2</td>\n",
              "    </tr>\n",
              "    <tr>\n",
              "      <th>4</th>\n",
              "      <td>180</td>\n",
              "      <td>41</td>\n",
              "      <td>1</td>\n",
              "      <td>457</td>\n",
              "      <td>19</td>\n",
              "      <td>2</td>\n",
              "    </tr>\n",
              "    <tr>\n",
              "      <th>...</th>\n",
              "      <td>...</td>\n",
              "      <td>...</td>\n",
              "      <td>...</td>\n",
              "      <td>...</td>\n",
              "      <td>...</td>\n",
              "      <td>...</td>\n",
              "    </tr>\n",
              "    <tr>\n",
              "      <th>923159</th>\n",
              "      <td>510</td>\n",
              "      <td>50</td>\n",
              "      <td>2</td>\n",
              "      <td>58</td>\n",
              "      <td>20</td>\n",
              "      <td>3</td>\n",
              "    </tr>\n",
              "    <tr>\n",
              "      <th>923160</th>\n",
              "      <td>10</td>\n",
              "      <td>28</td>\n",
              "      <td>2</td>\n",
              "      <td>95</td>\n",
              "      <td>13</td>\n",
              "      <td>3</td>\n",
              "    </tr>\n",
              "    <tr>\n",
              "      <th>923161</th>\n",
              "      <td>15</td>\n",
              "      <td>24</td>\n",
              "      <td>2</td>\n",
              "      <td>394</td>\n",
              "      <td>23</td>\n",
              "      <td>3</td>\n",
              "    </tr>\n",
              "    <tr>\n",
              "      <th>923162</th>\n",
              "      <td>40</td>\n",
              "      <td>32</td>\n",
              "      <td>5</td>\n",
              "      <td>217</td>\n",
              "      <td>12</td>\n",
              "      <td>3</td>\n",
              "    </tr>\n",
              "    <tr>\n",
              "      <th>923163</th>\n",
              "      <td>15</td>\n",
              "      <td>45</td>\n",
              "      <td>2</td>\n",
              "      <td>307</td>\n",
              "      <td>21</td>\n",
              "      <td>3</td>\n",
              "    </tr>\n",
              "  </tbody>\n",
              "</table>\n",
              "<p>923164 rows × 6 columns</p>\n",
              "</div>\n",
              "      <button class=\"colab-df-convert\" onclick=\"convertToInteractive('df-2d897122-2bf1-42e2-a92c-bcd5f668b764')\"\n",
              "              title=\"Convert this dataframe to an interactive table.\"\n",
              "              style=\"display:none;\">\n",
              "        \n",
              "  <svg xmlns=\"http://www.w3.org/2000/svg\" height=\"24px\"viewBox=\"0 0 24 24\"\n",
              "       width=\"24px\">\n",
              "    <path d=\"M0 0h24v24H0V0z\" fill=\"none\"/>\n",
              "    <path d=\"M18.56 5.44l.94 2.06.94-2.06 2.06-.94-2.06-.94-.94-2.06-.94 2.06-2.06.94zm-11 1L8.5 8.5l.94-2.06 2.06-.94-2.06-.94L8.5 2.5l-.94 2.06-2.06.94zm10 10l.94 2.06.94-2.06 2.06-.94-2.06-.94-.94-2.06-.94 2.06-2.06.94z\"/><path d=\"M17.41 7.96l-1.37-1.37c-.4-.4-.92-.59-1.43-.59-.52 0-1.04.2-1.43.59L10.3 9.45l-7.72 7.72c-.78.78-.78 2.05 0 2.83L4 21.41c.39.39.9.59 1.41.59.51 0 1.02-.2 1.41-.59l7.78-7.78 2.81-2.81c.8-.78.8-2.07 0-2.86zM5.41 20L4 18.59l7.72-7.72 1.47 1.35L5.41 20z\"/>\n",
              "  </svg>\n",
              "      </button>\n",
              "      \n",
              "  <style>\n",
              "    .colab-df-container {\n",
              "      display:flex;\n",
              "      flex-wrap:wrap;\n",
              "      gap: 12px;\n",
              "    }\n",
              "\n",
              "    .colab-df-convert {\n",
              "      background-color: #E8F0FE;\n",
              "      border: none;\n",
              "      border-radius: 50%;\n",
              "      cursor: pointer;\n",
              "      display: none;\n",
              "      fill: #1967D2;\n",
              "      height: 32px;\n",
              "      padding: 0 0 0 0;\n",
              "      width: 32px;\n",
              "    }\n",
              "\n",
              "    .colab-df-convert:hover {\n",
              "      background-color: #E2EBFA;\n",
              "      box-shadow: 0px 1px 2px rgba(60, 64, 67, 0.3), 0px 1px 3px 1px rgba(60, 64, 67, 0.15);\n",
              "      fill: #174EA6;\n",
              "    }\n",
              "\n",
              "    [theme=dark] .colab-df-convert {\n",
              "      background-color: #3B4455;\n",
              "      fill: #D2E3FC;\n",
              "    }\n",
              "\n",
              "    [theme=dark] .colab-df-convert:hover {\n",
              "      background-color: #434B5C;\n",
              "      box-shadow: 0px 1px 3px 1px rgba(0, 0, 0, 0.15);\n",
              "      filter: drop-shadow(0px 1px 2px rgba(0, 0, 0, 0.3));\n",
              "      fill: #FFFFFF;\n",
              "    }\n",
              "  </style>\n",
              "\n",
              "      <script>\n",
              "        const buttonEl =\n",
              "          document.querySelector('#df-2d897122-2bf1-42e2-a92c-bcd5f668b764 button.colab-df-convert');\n",
              "        buttonEl.style.display =\n",
              "          google.colab.kernel.accessAllowed ? 'block' : 'none';\n",
              "\n",
              "        async function convertToInteractive(key) {\n",
              "          const element = document.querySelector('#df-2d897122-2bf1-42e2-a92c-bcd5f668b764');\n",
              "          const dataTable =\n",
              "            await google.colab.kernel.invokeFunction('convertToInteractive',\n",
              "                                                     [key], {});\n",
              "          if (!dataTable) return;\n",
              "\n",
              "          const docLinkHtml = 'Like what you see? Visit the ' +\n",
              "            '<a target=\"_blank\" href=https://colab.research.google.com/notebooks/data_table.ipynb>data table notebook</a>'\n",
              "            + ' to learn more about interactive tables.';\n",
              "          element.innerHTML = '';\n",
              "          dataTable['output_type'] = 'display_data';\n",
              "          await google.colab.output.renderOutput(dataTable, element);\n",
              "          const docLink = document.createElement('div');\n",
              "          docLink.innerHTML = docLinkHtml;\n",
              "          element.appendChild(docLink);\n",
              "        }\n",
              "      </script>\n",
              "    </div>\n",
              "  </div>\n",
              "  "
            ]
          },
          "metadata": {},
          "execution_count": 77
        }
      ],
      "source": [
        "NN_df_ml  = NN_df_ml .drop(columns=[\"month_encoded\", \"year_encoded\", \"is_weekend_encoded\", 'prime_time_encoded', 'is_holiday_encoded', 'days_encoded', 'season_encoded', 'title_encoded', 'week_day_encoded'])\n",
        "NN_df_ml "
      ]
    },
    {
      "cell_type": "code",
      "execution_count": null,
      "metadata": {
        "id": "SnpWvjMXtp1c"
      },
      "outputs": [],
      "source": [
        "from sklearn.model_selection import train_test_split\n",
        "\n",
        "X = NN_df_ml.iloc[:, 0:5]\n",
        "y = NN_df_ml.iloc[:, 5]\n",
        "\n",
        "X_train_NN, X_test_NN, y_train_NN, y_test_NN = train_test_split(X, y, test_size=0.2, random_state=42)"
      ]
    },
    {
      "cell_type": "code",
      "execution_count": null,
      "metadata": {
        "id": "Av1ZDcVluL6v"
      },
      "outputs": [],
      "source": [
        "from tensorflow import keras\n",
        "import tensorflow as tf"
      ]
    },
    {
      "cell_type": "code",
      "execution_count": null,
      "metadata": {
        "colab": {
          "base_uri": "https://localhost:8080/"
        },
        "id": "oiyBpmDR04nP",
        "outputId": "38e79a54-433f-44d7-c17f-9de82ff0e4f3"
      },
      "outputs": [
        {
          "output_type": "execute_result",
          "data": {
            "text/plain": [
              "(738531, 5)"
            ]
          },
          "metadata": {},
          "execution_count": 80
        }
      ],
      "source": [
        "X_train_NN.shape"
      ]
    },
    {
      "cell_type": "code",
      "execution_count": null,
      "metadata": {
        "colab": {
          "base_uri": "https://localhost:8080/"
        },
        "id": "_e1BqkS507ea",
        "outputId": "0a46abbf-fdeb-4a2a-f957-1c1b52579e7a"
      },
      "outputs": [
        {
          "output_type": "execute_result",
          "data": {
            "text/plain": [
              "(184633, 5)"
            ]
          },
          "metadata": {},
          "execution_count": 81
        }
      ],
      "source": [
        "X_test_NN.shape"
      ]
    },
    {
      "cell_type": "code",
      "execution_count": null,
      "metadata": {
        "colab": {
          "base_uri": "https://localhost:8080/"
        },
        "id": "vG9cWbYs1Da5",
        "outputId": "6ea7149b-4b18-415d-d05d-034b64afad6a"
      },
      "outputs": [
        {
          "output_type": "stream",
          "name": "stdout",
          "text": [
            "Epoch 1/17\n",
            "23080/23080 [==============================] - 79s 3ms/step - loss: 0.9783 - accuracy: 0.5061\n",
            "Epoch 2/17\n",
            "23080/23080 [==============================] - 66s 3ms/step - loss: 0.9238 - accuracy: 0.5430\n",
            "Epoch 3/17\n",
            "23080/23080 [==============================] - 59s 3ms/step - loss: 0.9006 - accuracy: 0.5551\n",
            "Epoch 4/17\n",
            "23080/23080 [==============================] - 62s 3ms/step - loss: 0.8875 - accuracy: 0.5636\n",
            "Epoch 5/17\n",
            "23080/23080 [==============================] - 58s 3ms/step - loss: 0.8780 - accuracy: 0.5702\n",
            "Epoch 6/17\n",
            "23080/23080 [==============================] - 62s 3ms/step - loss: 0.8702 - accuracy: 0.5757\n",
            "Epoch 7/17\n",
            "23080/23080 [==============================] - 64s 3ms/step - loss: 0.8641 - accuracy: 0.5792\n",
            "Epoch 8/17\n",
            "23080/23080 [==============================] - 60s 3ms/step - loss: 0.8590 - accuracy: 0.5831\n",
            "Epoch 9/17\n",
            "23080/23080 [==============================] - 61s 3ms/step - loss: 0.8552 - accuracy: 0.5846\n",
            "Epoch 10/17\n",
            "23080/23080 [==============================] - 61s 3ms/step - loss: 0.8517 - accuracy: 0.5869\n",
            "Epoch 11/17\n",
            "23080/23080 [==============================] - 60s 3ms/step - loss: 0.8499 - accuracy: 0.5878\n",
            "Epoch 12/17\n",
            "23080/23080 [==============================] - 61s 3ms/step - loss: 0.8477 - accuracy: 0.5885\n",
            "Epoch 13/17\n",
            "23080/23080 [==============================] - 60s 3ms/step - loss: 0.8460 - accuracy: 0.5901\n",
            "Epoch 14/17\n",
            "23080/23080 [==============================] - 60s 3ms/step - loss: 0.8434 - accuracy: 0.5920\n",
            "Epoch 15/17\n",
            "23080/23080 [==============================] - 56s 2ms/step - loss: 0.8412 - accuracy: 0.5931\n",
            "Epoch 16/17\n",
            "23080/23080 [==============================] - 59s 3ms/step - loss: 0.8393 - accuracy: 0.5943\n",
            "Epoch 17/17\n",
            "23080/23080 [==============================] - 58s 3ms/step - loss: 0.8386 - accuracy: 0.5948\n"
          ]
        },
        {
          "output_type": "execute_result",
          "data": {
            "text/plain": [
              "<keras.callbacks.History at 0x7f615e702690>"
            ]
          },
          "metadata": {},
          "execution_count": 82
        }
      ],
      "source": [
        "model_NN = keras.Sequential([\n",
        "                keras.layers.Flatten(),\n",
        "                keras.layers.Dense(128,activation = tf.nn.relu), \n",
        "                keras.layers.Dense(64,activation = tf.nn.sigmoid), \n",
        "                keras.layers.Dense(32,activation = tf.nn.sigmoid),                          \n",
        "                keras.layers.Dense(10,activation = tf.nn.softmax)\n",
        "                ])\n",
        "\n",
        "model_NN.compile(optimizer = 'adam', loss='sparse_categorical_crossentropy', metrics =['accuracy'])\n",
        "\n",
        "model_NN.fit(X_train_NN, y_train_NN, epochs=17)"
      ]
    },
    {
      "cell_type": "code",
      "execution_count": null,
      "metadata": {
        "colab": {
          "base_uri": "https://localhost:8080/"
        },
        "id": "EeK4CRTXDAKv",
        "outputId": "06fdd7f0-2134-468d-b1ce-27965bbb6b85"
      },
      "outputs": [
        {
          "output_type": "stream",
          "name": "stdout",
          "text": [
            "2885/2885 [==============================] - 5s 2ms/step\n"
          ]
        }
      ],
      "source": [
        "import numpy as np\n",
        "\n",
        "NN_prediction = model_NN.predict(X_test_NN, batch_size=64, verbose=1)\n",
        "\n",
        "NN_prediction_bool = np.argmax(NN_prediction, axis=1)"
      ]
    },
    {
      "cell_type": "code",
      "execution_count": null,
      "metadata": {
        "colab": {
          "base_uri": "https://localhost:8080/"
        },
        "id": "TWEX5IAUDRoP",
        "outputId": "be0d3c85-a555-461f-f4e8-89502ae6fa55"
      },
      "outputs": [
        {
          "output_type": "execute_result",
          "data": {
            "text/plain": [
              "0.5918497776670476"
            ]
          },
          "metadata": {},
          "execution_count": 84
        }
      ],
      "source": [
        "accuracy_score(y_test_NN, NN_prediction_bool)"
      ]
    },
    {
      "cell_type": "code",
      "execution_count": null,
      "metadata": {
        "colab": {
          "base_uri": "https://localhost:8080/"
        },
        "id": "6ijBTEDRCXse",
        "outputId": "11f4f1cc-a551-4d93-823f-24dae7e8ee71"
      },
      "outputs": [
        {
          "output_type": "execute_result",
          "data": {
            "text/plain": [
              "0.5801420330484964"
            ]
          },
          "metadata": {},
          "execution_count": 89
        }
      ],
      "source": [
        "precision_score(y_test_NN, NN_prediction_bool, average='weighted')"
      ]
    },
    {
      "cell_type": "code",
      "execution_count": null,
      "metadata": {
        "colab": {
          "base_uri": "https://localhost:8080/"
        },
        "id": "ttjFqN58Cgdd",
        "outputId": "347953e6-b9c1-4159-cfdc-22ab828c8030"
      },
      "outputs": [
        {
          "output_type": "execute_result",
          "data": {
            "text/plain": [
              "0.5918497776670476"
            ]
          },
          "metadata": {},
          "execution_count": 90
        }
      ],
      "source": [
        "recall_score(y_test_NN, NN_prediction_bool, average='weighted')"
      ]
    },
    {
      "cell_type": "code",
      "execution_count": null,
      "metadata": {
        "colab": {
          "base_uri": "https://localhost:8080/"
        },
        "id": "U1cvtfiuEn3j",
        "outputId": "7dc4b1bd-7244-45f4-fce6-dfbe40df5af9"
      },
      "outputs": [
        {
          "output_type": "execute_result",
          "data": {
            "text/plain": [
              "0.5778724587828488"
            ]
          },
          "metadata": {},
          "execution_count": 91
        }
      ],
      "source": [
        "f1_score(y_test_NN, NN_prediction_bool, average='weighted')"
      ]
    },
    {
      "cell_type": "code",
      "execution_count": null,
      "metadata": {
        "colab": {
          "base_uri": "https://localhost:8080/"
        },
        "id": "EYGXOFI2FVAc",
        "outputId": "20be2139-8288-44d3-a213-46c25983be9f"
      },
      "outputs": [
        {
          "output_type": "execute_result",
          "data": {
            "text/plain": [
              "0.4396526135739317"
            ]
          },
          "metadata": {},
          "execution_count": 88
        }
      ],
      "source": [
        "fpr, tpr, thresholds = roc_curve(y_test_NN, NN_prediction_bool, pos_label=2)\n",
        "auc(fpr, tpr)"
      ]
    }
  ],
  "metadata": {
    "accelerator": "GPU",
    "colab": {
      "collapsed_sections": [],
      "name": "Thesis (Main).ipynb",
      "provenance": [],
      "authorship_tag": "ABX9TyO8Wg/kATU0DoDupkNeU/Qn",
      "include_colab_link": true
    },
    "gpuClass": "standard",
    "kernelspec": {
      "display_name": "Python 3",
      "name": "python3"
    },
    "language_info": {
      "name": "python"
    }
  },
  "nbformat": 4,
  "nbformat_minor": 0
}